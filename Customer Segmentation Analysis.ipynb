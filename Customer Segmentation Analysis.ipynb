{
 "cells": [
  {
   "cell_type": "markdown",
   "metadata": {},
   "source": [
    "## Marketing Analytics Project"
   ]
  },
  {
   "cell_type": "markdown",
   "metadata": {},
   "source": [
    "### Customer Segmentation using Machine Learning"
   ]
  },
  {
   "cell_type": "code",
   "execution_count": 1,
   "metadata": {},
   "outputs": [],
   "source": [
    "import pandas as pd # for dataframes\n",
    "import matplotlib.pyplot as plt # for plotting graphs\n",
    "import seaborn as sns # for plotting graphs\n",
    "import datetime as dt\n",
    "import numpy as np\n",
    "import warnings\n",
    "warnings.filterwarnings('ignore')"
   ]
  },
  {
   "cell_type": "code",
   "execution_count": 20,
   "metadata": {},
   "outputs": [],
   "source": [
    "data = pd.read_csv(\"C:\\\\Users\\\\dines\\\\Downloads\\\\Orders - Analysis Task.csv\", encoding= 'ISO-8859-1')"
   ]
  },
  {
   "cell_type": "code",
   "execution_count": 21,
   "metadata": {},
   "outputs": [
    {
     "data": {
      "text/plain": [
       "(70052, 17)"
      ]
     },
     "execution_count": 21,
     "metadata": {},
     "output_type": "execute_result"
    }
   ],
   "source": [
    "data.shape"
   ]
  },
  {
   "cell_type": "code",
   "execution_count": 22,
   "metadata": {},
   "outputs": [
    {
     "data": {
      "text/html": [
       "<div>\n",
       "<style scoped>\n",
       "    .dataframe tbody tr th:only-of-type {\n",
       "        vertical-align: middle;\n",
       "    }\n",
       "\n",
       "    .dataframe tbody tr th {\n",
       "        vertical-align: top;\n",
       "    }\n",
       "\n",
       "    .dataframe thead th {\n",
       "        text-align: right;\n",
       "    }\n",
       "</style>\n",
       "<table border=\"1\" class=\"dataframe\">\n",
       "  <thead>\n",
       "    <tr style=\"text-align: right;\">\n",
       "      <th></th>\n",
       "      <th>product_title</th>\n",
       "      <th>product_type</th>\n",
       "      <th>variant_title</th>\n",
       "      <th>variant_sku</th>\n",
       "      <th>variant_id</th>\n",
       "      <th>customer_id</th>\n",
       "      <th>order_id</th>\n",
       "      <th>day</th>\n",
       "      <th>net_quantity</th>\n",
       "      <th>gross_sales</th>\n",
       "      <th>discounts</th>\n",
       "      <th>returns</th>\n",
       "      <th>net_sales</th>\n",
       "      <th>taxes</th>\n",
       "      <th>total_sales</th>\n",
       "      <th>returned_item_quantity</th>\n",
       "      <th>ordered_item_quantity</th>\n",
       "    </tr>\n",
       "  </thead>\n",
       "  <tbody>\n",
       "    <tr>\n",
       "      <td>0</td>\n",
       "      <td>DPR</td>\n",
       "      <td>DPR</td>\n",
       "      <td>100</td>\n",
       "      <td>AD-982-708-895-F-6C894FB</td>\n",
       "      <td>52039657.0</td>\n",
       "      <td>1312378.0</td>\n",
       "      <td>8.330000e+13</td>\n",
       "      <td>12/4/2018</td>\n",
       "      <td>2</td>\n",
       "      <td>200.0</td>\n",
       "      <td>-200.00</td>\n",
       "      <td>0.00</td>\n",
       "      <td>0.0</td>\n",
       "      <td>0.0</td>\n",
       "      <td>0.0</td>\n",
       "      <td>0</td>\n",
       "      <td>2</td>\n",
       "    </tr>\n",
       "    <tr>\n",
       "      <td>1</td>\n",
       "      <td>RJF</td>\n",
       "      <td>Product P</td>\n",
       "      <td>28 / A / MTM</td>\n",
       "      <td>83-490-E49-8C8-8-3B100BC</td>\n",
       "      <td>56914686.0</td>\n",
       "      <td>3715657.0</td>\n",
       "      <td>3.630000e+13</td>\n",
       "      <td>4/1/2019</td>\n",
       "      <td>2</td>\n",
       "      <td>190.0</td>\n",
       "      <td>-190.00</td>\n",
       "      <td>0.00</td>\n",
       "      <td>0.0</td>\n",
       "      <td>0.0</td>\n",
       "      <td>0.0</td>\n",
       "      <td>0</td>\n",
       "      <td>2</td>\n",
       "    </tr>\n",
       "    <tr>\n",
       "      <td>2</td>\n",
       "      <td>CLH</td>\n",
       "      <td>Product B</td>\n",
       "      <td>32 / B / FtO</td>\n",
       "      <td>68-ECA-BC7-3B2-A-E73DE1B</td>\n",
       "      <td>24064862.0</td>\n",
       "      <td>9533448.0</td>\n",
       "      <td>7.310000e+13</td>\n",
       "      <td>11/5/2018</td>\n",
       "      <td>0</td>\n",
       "      <td>164.8</td>\n",
       "      <td>-156.56</td>\n",
       "      <td>-8.24</td>\n",
       "      <td>0.0</td>\n",
       "      <td>0.0</td>\n",
       "      <td>0.0</td>\n",
       "      <td>-2</td>\n",
       "      <td>2</td>\n",
       "    </tr>\n",
       "    <tr>\n",
       "      <td>3</td>\n",
       "      <td>NMA</td>\n",
       "      <td>Product F</td>\n",
       "      <td>40 / B / FtO</td>\n",
       "      <td>6C-1F1-226-1B3-2-3542B41</td>\n",
       "      <td>43823868.0</td>\n",
       "      <td>4121004.0</td>\n",
       "      <td>5.360000e+13</td>\n",
       "      <td>2/19/2019</td>\n",
       "      <td>1</td>\n",
       "      <td>119.0</td>\n",
       "      <td>-119.00</td>\n",
       "      <td>0.00</td>\n",
       "      <td>0.0</td>\n",
       "      <td>0.0</td>\n",
       "      <td>0.0</td>\n",
       "      <td>0</td>\n",
       "      <td>1</td>\n",
       "    </tr>\n",
       "    <tr>\n",
       "      <td>4</td>\n",
       "      <td>NMA</td>\n",
       "      <td>Product F</td>\n",
       "      <td>40 / B / FtO</td>\n",
       "      <td>6C-1F1-226-1B3-2-3542B41</td>\n",
       "      <td>43823868.0</td>\n",
       "      <td>4121004.0</td>\n",
       "      <td>2.930000e+13</td>\n",
       "      <td>2/19/2019</td>\n",
       "      <td>1</td>\n",
       "      <td>119.0</td>\n",
       "      <td>-119.00</td>\n",
       "      <td>0.00</td>\n",
       "      <td>0.0</td>\n",
       "      <td>0.0</td>\n",
       "      <td>0.0</td>\n",
       "      <td>0</td>\n",
       "      <td>1</td>\n",
       "    </tr>\n",
       "  </tbody>\n",
       "</table>\n",
       "</div>"
      ],
      "text/plain": [
       "  product_title product_type variant_title               variant_sku  \\\n",
       "0           DPR          DPR           100  AD-982-708-895-F-6C894FB   \n",
       "1           RJF    Product P  28 / A / MTM  83-490-E49-8C8-8-3B100BC   \n",
       "2           CLH    Product B  32 / B / FtO  68-ECA-BC7-3B2-A-E73DE1B   \n",
       "3           NMA    Product F  40 / B / FtO  6C-1F1-226-1B3-2-3542B41   \n",
       "4           NMA    Product F  40 / B / FtO  6C-1F1-226-1B3-2-3542B41   \n",
       "\n",
       "   variant_id  customer_id      order_id        day  net_quantity  \\\n",
       "0  52039657.0    1312378.0  8.330000e+13  12/4/2018             2   \n",
       "1  56914686.0    3715657.0  3.630000e+13   4/1/2019             2   \n",
       "2  24064862.0    9533448.0  7.310000e+13  11/5/2018             0   \n",
       "3  43823868.0    4121004.0  5.360000e+13  2/19/2019             1   \n",
       "4  43823868.0    4121004.0  2.930000e+13  2/19/2019             1   \n",
       "\n",
       "   gross_sales  discounts  returns  net_sales  taxes  total_sales  \\\n",
       "0        200.0    -200.00     0.00        0.0    0.0          0.0   \n",
       "1        190.0    -190.00     0.00        0.0    0.0          0.0   \n",
       "2        164.8    -156.56    -8.24        0.0    0.0          0.0   \n",
       "3        119.0    -119.00     0.00        0.0    0.0          0.0   \n",
       "4        119.0    -119.00     0.00        0.0    0.0          0.0   \n",
       "\n",
       "   returned_item_quantity  ordered_item_quantity  \n",
       "0                       0                      2  \n",
       "1                       0                      2  \n",
       "2                      -2                      2  \n",
       "3                       0                      1  \n",
       "4                       0                      1  "
      ]
     },
     "execution_count": 22,
     "metadata": {},
     "output_type": "execute_result"
    }
   ],
   "source": [
    "data.head()"
   ]
  },
  {
   "cell_type": "code",
   "execution_count": 23,
   "metadata": {},
   "outputs": [
    {
     "data": {
      "text/html": [
       "<div>\n",
       "<style scoped>\n",
       "    .dataframe tbody tr th:only-of-type {\n",
       "        vertical-align: middle;\n",
       "    }\n",
       "\n",
       "    .dataframe tbody tr th {\n",
       "        vertical-align: top;\n",
       "    }\n",
       "\n",
       "    .dataframe thead th {\n",
       "        text-align: right;\n",
       "    }\n",
       "</style>\n",
       "<table border=\"1\" class=\"dataframe\">\n",
       "  <thead>\n",
       "    <tr style=\"text-align: right;\">\n",
       "      <th></th>\n",
       "      <th>variant_id</th>\n",
       "      <th>customer_id</th>\n",
       "      <th>order_id</th>\n",
       "      <th>net_quantity</th>\n",
       "      <th>gross_sales</th>\n",
       "      <th>discounts</th>\n",
       "      <th>returns</th>\n",
       "      <th>net_sales</th>\n",
       "      <th>taxes</th>\n",
       "      <th>total_sales</th>\n",
       "      <th>returned_item_quantity</th>\n",
       "      <th>ordered_item_quantity</th>\n",
       "    </tr>\n",
       "  </thead>\n",
       "  <tbody>\n",
       "    <tr>\n",
       "      <td>count</td>\n",
       "      <td>7.005200e+04</td>\n",
       "      <td>7.005200e+04</td>\n",
       "      <td>7.005200e+04</td>\n",
       "      <td>70052.000000</td>\n",
       "      <td>70052.000000</td>\n",
       "      <td>70052.000000</td>\n",
       "      <td>70052.000000</td>\n",
       "      <td>70052.000000</td>\n",
       "      <td>70052.000000</td>\n",
       "      <td>70052.000000</td>\n",
       "      <td>70052.000000</td>\n",
       "      <td>70052.000000</td>\n",
       "    </tr>\n",
       "    <tr>\n",
       "      <td>mean</td>\n",
       "      <td>2.441554e+11</td>\n",
       "      <td>6.013259e+11</td>\n",
       "      <td>5.506056e+13</td>\n",
       "      <td>0.701179</td>\n",
       "      <td>61.776302</td>\n",
       "      <td>-4.949904</td>\n",
       "      <td>-10.246051</td>\n",
       "      <td>46.580348</td>\n",
       "      <td>9.123636</td>\n",
       "      <td>55.703982</td>\n",
       "      <td>-0.156098</td>\n",
       "      <td>0.857277</td>\n",
       "    </tr>\n",
       "    <tr>\n",
       "      <td>std</td>\n",
       "      <td>4.253916e+12</td>\n",
       "      <td>6.223346e+12</td>\n",
       "      <td>2.587611e+13</td>\n",
       "      <td>0.739497</td>\n",
       "      <td>31.800689</td>\n",
       "      <td>7.769972</td>\n",
       "      <td>25.154677</td>\n",
       "      <td>51.802690</td>\n",
       "      <td>10.305236</td>\n",
       "      <td>61.920557</td>\n",
       "      <td>0.369190</td>\n",
       "      <td>0.380820</td>\n",
       "    </tr>\n",
       "    <tr>\n",
       "      <td>min</td>\n",
       "      <td>1.001447e+07</td>\n",
       "      <td>1.000661e+06</td>\n",
       "      <td>1.000000e+13</td>\n",
       "      <td>-3.000000</td>\n",
       "      <td>0.000000</td>\n",
       "      <td>-200.000000</td>\n",
       "      <td>-237.500000</td>\n",
       "      <td>-237.500000</td>\n",
       "      <td>-47.500000</td>\n",
       "      <td>-285.000000</td>\n",
       "      <td>-3.000000</td>\n",
       "      <td>0.000000</td>\n",
       "    </tr>\n",
       "    <tr>\n",
       "      <td>25%</td>\n",
       "      <td>2.692223e+07</td>\n",
       "      <td>3.295695e+06</td>\n",
       "      <td>3.270000e+13</td>\n",
       "      <td>1.000000</td>\n",
       "      <td>51.670000</td>\n",
       "      <td>-8.340000</td>\n",
       "      <td>0.000000</td>\n",
       "      <td>47.080000</td>\n",
       "      <td>8.375000</td>\n",
       "      <td>56.227500</td>\n",
       "      <td>0.000000</td>\n",
       "      <td>1.000000</td>\n",
       "    </tr>\n",
       "    <tr>\n",
       "      <td>50%</td>\n",
       "      <td>4.494514e+07</td>\n",
       "      <td>5.566107e+06</td>\n",
       "      <td>5.520000e+13</td>\n",
       "      <td>1.000000</td>\n",
       "      <td>74.170000</td>\n",
       "      <td>0.000000</td>\n",
       "      <td>0.000000</td>\n",
       "      <td>63.330000</td>\n",
       "      <td>12.660000</td>\n",
       "      <td>76.000000</td>\n",
       "      <td>0.000000</td>\n",
       "      <td>1.000000</td>\n",
       "    </tr>\n",
       "    <tr>\n",
       "      <td>75%</td>\n",
       "      <td>7.743106e+07</td>\n",
       "      <td>7.815352e+06</td>\n",
       "      <td>7.740000e+13</td>\n",
       "      <td>1.000000</td>\n",
       "      <td>79.170000</td>\n",
       "      <td>0.000000</td>\n",
       "      <td>0.000000</td>\n",
       "      <td>74.170000</td>\n",
       "      <td>14.840000</td>\n",
       "      <td>89.000000</td>\n",
       "      <td>0.000000</td>\n",
       "      <td>1.000000</td>\n",
       "    </tr>\n",
       "    <tr>\n",
       "      <td>max</td>\n",
       "      <td>8.420000e+13</td>\n",
       "      <td>9.980000e+13</td>\n",
       "      <td>1.000000e+14</td>\n",
       "      <td>6.000000</td>\n",
       "      <td>445.000000</td>\n",
       "      <td>0.000000</td>\n",
       "      <td>0.000000</td>\n",
       "      <td>445.000000</td>\n",
       "      <td>63.340000</td>\n",
       "      <td>445.000000</td>\n",
       "      <td>0.000000</td>\n",
       "      <td>6.000000</td>\n",
       "    </tr>\n",
       "  </tbody>\n",
       "</table>\n",
       "</div>"
      ],
      "text/plain": [
       "         variant_id   customer_id      order_id  net_quantity   gross_sales  \\\n",
       "count  7.005200e+04  7.005200e+04  7.005200e+04  70052.000000  70052.000000   \n",
       "mean   2.441554e+11  6.013259e+11  5.506056e+13      0.701179     61.776302   \n",
       "std    4.253916e+12  6.223346e+12  2.587611e+13      0.739497     31.800689   \n",
       "min    1.001447e+07  1.000661e+06  1.000000e+13     -3.000000      0.000000   \n",
       "25%    2.692223e+07  3.295695e+06  3.270000e+13      1.000000     51.670000   \n",
       "50%    4.494514e+07  5.566107e+06  5.520000e+13      1.000000     74.170000   \n",
       "75%    7.743106e+07  7.815352e+06  7.740000e+13      1.000000     79.170000   \n",
       "max    8.420000e+13  9.980000e+13  1.000000e+14      6.000000    445.000000   \n",
       "\n",
       "          discounts       returns     net_sales         taxes   total_sales  \\\n",
       "count  70052.000000  70052.000000  70052.000000  70052.000000  70052.000000   \n",
       "mean      -4.949904    -10.246051     46.580348      9.123636     55.703982   \n",
       "std        7.769972     25.154677     51.802690     10.305236     61.920557   \n",
       "min     -200.000000   -237.500000   -237.500000    -47.500000   -285.000000   \n",
       "25%       -8.340000      0.000000     47.080000      8.375000     56.227500   \n",
       "50%        0.000000      0.000000     63.330000     12.660000     76.000000   \n",
       "75%        0.000000      0.000000     74.170000     14.840000     89.000000   \n",
       "max        0.000000      0.000000    445.000000     63.340000    445.000000   \n",
       "\n",
       "       returned_item_quantity  ordered_item_quantity  \n",
       "count            70052.000000           70052.000000  \n",
       "mean                -0.156098               0.857277  \n",
       "std                  0.369190               0.380820  \n",
       "min                 -3.000000               0.000000  \n",
       "25%                  0.000000               1.000000  \n",
       "50%                  0.000000               1.000000  \n",
       "75%                  0.000000               1.000000  \n",
       "max                  0.000000               6.000000  "
      ]
     },
     "execution_count": 23,
     "metadata": {},
     "output_type": "execute_result"
    }
   ],
   "source": [
    "data.describe()"
   ]
  },
  {
   "cell_type": "code",
   "execution_count": 24,
   "metadata": {},
   "outputs": [
    {
     "data": {
      "text/plain": [
       "0        2\n",
       "1        2\n",
       "2        0\n",
       "3        1\n",
       "4        1\n",
       "        ..\n",
       "70047   -3\n",
       "70048   -3\n",
       "70049   -3\n",
       "70050   -3\n",
       "70051   -3\n",
       "Name: net_quantity, Length: 70052, dtype: int64"
      ]
     },
     "execution_count": 24,
     "metadata": {},
     "output_type": "execute_result"
    }
   ],
   "source": [
    "data.net_quantity"
   ]
  },
  {
   "cell_type": "code",
   "execution_count": null,
   "metadata": {},
   "outputs": [],
   "source": []
  },
  {
   "cell_type": "code",
   "execution_count": 25,
   "metadata": {},
   "outputs": [
    {
     "data": {
      "text/plain": [
       "product_title             0\n",
       "product_type              0\n",
       "variant_title             0\n",
       "variant_sku               0\n",
       "variant_id                0\n",
       "customer_id               0\n",
       "order_id                  0\n",
       "day                       0\n",
       "net_quantity              0\n",
       "gross_sales               0\n",
       "discounts                 0\n",
       "returns                   0\n",
       "net_sales                 0\n",
       "taxes                     0\n",
       "total_sales               0\n",
       "returned_item_quantity    0\n",
       "ordered_item_quantity     0\n",
       "dtype: int64"
      ]
     },
     "execution_count": 25,
     "metadata": {},
     "output_type": "execute_result"
    }
   ],
   "source": [
    "data.isnull().sum()"
   ]
  },
  {
   "cell_type": "code",
   "execution_count": 26,
   "metadata": {},
   "outputs": [],
   "source": [
    "products_ordered = data.groupby(data.customer_id).product_type.count().reset_index()"
   ]
  },
  {
   "cell_type": "code",
   "execution_count": 27,
   "metadata": {},
   "outputs": [
    {
     "data": {
      "text/html": [
       "<div>\n",
       "<style scoped>\n",
       "    .dataframe tbody tr th:only-of-type {\n",
       "        vertical-align: middle;\n",
       "    }\n",
       "\n",
       "    .dataframe tbody tr th {\n",
       "        vertical-align: top;\n",
       "    }\n",
       "\n",
       "    .dataframe thead th {\n",
       "        text-align: right;\n",
       "    }\n",
       "</style>\n",
       "<table border=\"1\" class=\"dataframe\">\n",
       "  <thead>\n",
       "    <tr style=\"text-align: right;\">\n",
       "      <th></th>\n",
       "      <th>customer_id</th>\n",
       "      <th>product_type</th>\n",
       "    </tr>\n",
       "  </thead>\n",
       "  <tbody>\n",
       "    <tr>\n",
       "      <td>0</td>\n",
       "      <td>1.000661e+06</td>\n",
       "      <td>5</td>\n",
       "    </tr>\n",
       "    <tr>\n",
       "      <td>1</td>\n",
       "      <td>1.001914e+06</td>\n",
       "      <td>1</td>\n",
       "    </tr>\n",
       "    <tr>\n",
       "      <td>2</td>\n",
       "      <td>1.002167e+06</td>\n",
       "      <td>4</td>\n",
       "    </tr>\n",
       "    <tr>\n",
       "      <td>3</td>\n",
       "      <td>1.002387e+06</td>\n",
       "      <td>1</td>\n",
       "    </tr>\n",
       "    <tr>\n",
       "      <td>4</td>\n",
       "      <td>1.002419e+06</td>\n",
       "      <td>3</td>\n",
       "    </tr>\n",
       "    <tr>\n",
       "      <td>...</td>\n",
       "      <td>...</td>\n",
       "      <td>...</td>\n",
       "    </tr>\n",
       "    <tr>\n",
       "      <td>25486</td>\n",
       "      <td>9.890000e+13</td>\n",
       "      <td>3</td>\n",
       "    </tr>\n",
       "    <tr>\n",
       "      <td>25487</td>\n",
       "      <td>9.900000e+13</td>\n",
       "      <td>1</td>\n",
       "    </tr>\n",
       "    <tr>\n",
       "      <td>25488</td>\n",
       "      <td>9.930000e+13</td>\n",
       "      <td>4</td>\n",
       "    </tr>\n",
       "    <tr>\n",
       "      <td>25489</td>\n",
       "      <td>9.950000e+13</td>\n",
       "      <td>1</td>\n",
       "    </tr>\n",
       "    <tr>\n",
       "      <td>25490</td>\n",
       "      <td>9.980000e+13</td>\n",
       "      <td>1</td>\n",
       "    </tr>\n",
       "  </tbody>\n",
       "</table>\n",
       "<p>25491 rows × 2 columns</p>\n",
       "</div>"
      ],
      "text/plain": [
       "        customer_id  product_type\n",
       "0      1.000661e+06             5\n",
       "1      1.001914e+06             1\n",
       "2      1.002167e+06             4\n",
       "3      1.002387e+06             1\n",
       "4      1.002419e+06             3\n",
       "...             ...           ...\n",
       "25486  9.890000e+13             3\n",
       "25487  9.900000e+13             1\n",
       "25488  9.930000e+13             4\n",
       "25489  9.950000e+13             1\n",
       "25490  9.980000e+13             1\n",
       "\n",
       "[25491 rows x 2 columns]"
      ]
     },
     "execution_count": 27,
     "metadata": {},
     "output_type": "execute_result"
    }
   ],
   "source": [
    "products_ordered"
   ]
  },
  {
   "cell_type": "code",
   "execution_count": 28,
   "metadata": {},
   "outputs": [],
   "source": [
    "total_sales = data.groupby(['customer_id']).agg({'net_sales': lambda x: x.sum()}).reset_index()"
   ]
  },
  {
   "cell_type": "code",
   "execution_count": 29,
   "metadata": {},
   "outputs": [
    {
     "data": {
      "text/html": [
       "<div>\n",
       "<style scoped>\n",
       "    .dataframe tbody tr th:only-of-type {\n",
       "        vertical-align: middle;\n",
       "    }\n",
       "\n",
       "    .dataframe tbody tr th {\n",
       "        vertical-align: top;\n",
       "    }\n",
       "\n",
       "    .dataframe thead th {\n",
       "        text-align: right;\n",
       "    }\n",
       "</style>\n",
       "<table border=\"1\" class=\"dataframe\">\n",
       "  <thead>\n",
       "    <tr style=\"text-align: right;\">\n",
       "      <th></th>\n",
       "      <th>customer_id</th>\n",
       "      <th>net_sales</th>\n",
       "    </tr>\n",
       "  </thead>\n",
       "  <tbody>\n",
       "    <tr>\n",
       "      <td>0</td>\n",
       "      <td>1.000661e+06</td>\n",
       "      <td>72.22</td>\n",
       "    </tr>\n",
       "    <tr>\n",
       "      <td>1</td>\n",
       "      <td>1.001914e+06</td>\n",
       "      <td>66.00</td>\n",
       "    </tr>\n",
       "    <tr>\n",
       "      <td>2</td>\n",
       "      <td>1.002167e+06</td>\n",
       "      <td>139.54</td>\n",
       "    </tr>\n",
       "    <tr>\n",
       "      <td>3</td>\n",
       "      <td>1.002387e+06</td>\n",
       "      <td>74.17</td>\n",
       "    </tr>\n",
       "    <tr>\n",
       "      <td>4</td>\n",
       "      <td>1.002419e+06</td>\n",
       "      <td>44.25</td>\n",
       "    </tr>\n",
       "    <tr>\n",
       "      <td>...</td>\n",
       "      <td>...</td>\n",
       "      <td>...</td>\n",
       "    </tr>\n",
       "    <tr>\n",
       "      <td>25486</td>\n",
       "      <td>9.890000e+13</td>\n",
       "      <td>202.09</td>\n",
       "    </tr>\n",
       "    <tr>\n",
       "      <td>25487</td>\n",
       "      <td>9.900000e+13</td>\n",
       "      <td>74.17</td>\n",
       "    </tr>\n",
       "    <tr>\n",
       "      <td>25488</td>\n",
       "      <td>9.930000e+13</td>\n",
       "      <td>148.33</td>\n",
       "    </tr>\n",
       "    <tr>\n",
       "      <td>25489</td>\n",
       "      <td>9.950000e+13</td>\n",
       "      <td>53.33</td>\n",
       "    </tr>\n",
       "    <tr>\n",
       "      <td>25490</td>\n",
       "      <td>9.980000e+13</td>\n",
       "      <td>-69.44</td>\n",
       "    </tr>\n",
       "  </tbody>\n",
       "</table>\n",
       "<p>25491 rows × 2 columns</p>\n",
       "</div>"
      ],
      "text/plain": [
       "        customer_id  net_sales\n",
       "0      1.000661e+06      72.22\n",
       "1      1.001914e+06      66.00\n",
       "2      1.002167e+06     139.54\n",
       "3      1.002387e+06      74.17\n",
       "4      1.002419e+06      44.25\n",
       "...             ...        ...\n",
       "25486  9.890000e+13     202.09\n",
       "25487  9.900000e+13      74.17\n",
       "25488  9.930000e+13     148.33\n",
       "25489  9.950000e+13      53.33\n",
       "25490  9.980000e+13     -69.44\n",
       "\n",
       "[25491 rows x 2 columns]"
      ]
     },
     "execution_count": 29,
     "metadata": {},
     "output_type": "execute_result"
    }
   ],
   "source": [
    "total_sales"
   ]
  },
  {
   "cell_type": "code",
   "execution_count": 30,
   "metadata": {},
   "outputs": [],
   "source": [
    "data['avg_return_rate'] = data.returned_item_quantity/data.ordered_item_quantity"
   ]
  },
  {
   "cell_type": "code",
   "execution_count": 31,
   "metadata": {},
   "outputs": [],
   "source": [
    "avg_return_rate = data.groupby(['customer_id']).agg({'avg_return_rate': lambda x: x.sum()}).reset_index()"
   ]
  },
  {
   "cell_type": "code",
   "execution_count": 32,
   "metadata": {},
   "outputs": [
    {
     "data": {
      "text/html": [
       "<div>\n",
       "<style scoped>\n",
       "    .dataframe tbody tr th:only-of-type {\n",
       "        vertical-align: middle;\n",
       "    }\n",
       "\n",
       "    .dataframe tbody tr th {\n",
       "        vertical-align: top;\n",
       "    }\n",
       "\n",
       "    .dataframe thead th {\n",
       "        text-align: right;\n",
       "    }\n",
       "</style>\n",
       "<table border=\"1\" class=\"dataframe\">\n",
       "  <thead>\n",
       "    <tr style=\"text-align: right;\">\n",
       "      <th></th>\n",
       "      <th>customer_id</th>\n",
       "      <th>avg_return_rate</th>\n",
       "    </tr>\n",
       "  </thead>\n",
       "  <tbody>\n",
       "    <tr>\n",
       "      <td>0</td>\n",
       "      <td>1.000661e+06</td>\n",
       "      <td>-inf</td>\n",
       "    </tr>\n",
       "    <tr>\n",
       "      <td>1</td>\n",
       "      <td>1.001914e+06</td>\n",
       "      <td>0.0</td>\n",
       "    </tr>\n",
       "    <tr>\n",
       "      <td>2</td>\n",
       "      <td>1.002167e+06</td>\n",
       "      <td>-inf</td>\n",
       "    </tr>\n",
       "    <tr>\n",
       "      <td>3</td>\n",
       "      <td>1.002387e+06</td>\n",
       "      <td>0.0</td>\n",
       "    </tr>\n",
       "    <tr>\n",
       "      <td>4</td>\n",
       "      <td>1.002419e+06</td>\n",
       "      <td>-inf</td>\n",
       "    </tr>\n",
       "    <tr>\n",
       "      <td>...</td>\n",
       "      <td>...</td>\n",
       "      <td>...</td>\n",
       "    </tr>\n",
       "    <tr>\n",
       "      <td>25486</td>\n",
       "      <td>9.890000e+13</td>\n",
       "      <td>0.0</td>\n",
       "    </tr>\n",
       "    <tr>\n",
       "      <td>25487</td>\n",
       "      <td>9.900000e+13</td>\n",
       "      <td>0.0</td>\n",
       "    </tr>\n",
       "    <tr>\n",
       "      <td>25488</td>\n",
       "      <td>9.930000e+13</td>\n",
       "      <td>-inf</td>\n",
       "    </tr>\n",
       "    <tr>\n",
       "      <td>25489</td>\n",
       "      <td>9.950000e+13</td>\n",
       "      <td>0.0</td>\n",
       "    </tr>\n",
       "    <tr>\n",
       "      <td>25490</td>\n",
       "      <td>9.980000e+13</td>\n",
       "      <td>-inf</td>\n",
       "    </tr>\n",
       "  </tbody>\n",
       "</table>\n",
       "<p>25491 rows × 2 columns</p>\n",
       "</div>"
      ],
      "text/plain": [
       "        customer_id  avg_return_rate\n",
       "0      1.000661e+06             -inf\n",
       "1      1.001914e+06              0.0\n",
       "2      1.002167e+06             -inf\n",
       "3      1.002387e+06              0.0\n",
       "4      1.002419e+06             -inf\n",
       "...             ...              ...\n",
       "25486  9.890000e+13              0.0\n",
       "25487  9.900000e+13              0.0\n",
       "25488  9.930000e+13             -inf\n",
       "25489  9.950000e+13              0.0\n",
       "25490  9.980000e+13             -inf\n",
       "\n",
       "[25491 rows x 2 columns]"
      ]
     },
     "execution_count": 32,
     "metadata": {},
     "output_type": "execute_result"
    }
   ],
   "source": [
    "avg_return_rate"
   ]
  },
  {
   "cell_type": "code",
   "execution_count": 33,
   "metadata": {},
   "outputs": [],
   "source": [
    "rfm= data.groupby('customer_id').agg({'order_id': lambda order_id: len(order_id),\n",
    "                                      'net_sales': lambda net_sales: net_sales.sum(),\n",
    "                                     'avg_return_rate': lambda x: x.sum()})"
   ]
  },
  {
   "cell_type": "code",
   "execution_count": 34,
   "metadata": {},
   "outputs": [
    {
     "data": {
      "text/html": [
       "<div>\n",
       "<style scoped>\n",
       "    .dataframe tbody tr th:only-of-type {\n",
       "        vertical-align: middle;\n",
       "    }\n",
       "\n",
       "    .dataframe tbody tr th {\n",
       "        vertical-align: top;\n",
       "    }\n",
       "\n",
       "    .dataframe thead th {\n",
       "        text-align: right;\n",
       "    }\n",
       "</style>\n",
       "<table border=\"1\" class=\"dataframe\">\n",
       "  <thead>\n",
       "    <tr style=\"text-align: right;\">\n",
       "      <th></th>\n",
       "      <th>order_id</th>\n",
       "      <th>net_sales</th>\n",
       "      <th>avg_return_rate</th>\n",
       "    </tr>\n",
       "    <tr>\n",
       "      <th>customer_id</th>\n",
       "      <th></th>\n",
       "      <th></th>\n",
       "      <th></th>\n",
       "    </tr>\n",
       "  </thead>\n",
       "  <tbody>\n",
       "    <tr>\n",
       "      <td>1.000661e+06</td>\n",
       "      <td>5.0</td>\n",
       "      <td>72.22</td>\n",
       "      <td>-inf</td>\n",
       "    </tr>\n",
       "    <tr>\n",
       "      <td>1.001914e+06</td>\n",
       "      <td>1.0</td>\n",
       "      <td>66.00</td>\n",
       "      <td>0.0</td>\n",
       "    </tr>\n",
       "    <tr>\n",
       "      <td>1.002167e+06</td>\n",
       "      <td>4.0</td>\n",
       "      <td>139.54</td>\n",
       "      <td>-inf</td>\n",
       "    </tr>\n",
       "    <tr>\n",
       "      <td>1.002387e+06</td>\n",
       "      <td>1.0</td>\n",
       "      <td>74.17</td>\n",
       "      <td>0.0</td>\n",
       "    </tr>\n",
       "    <tr>\n",
       "      <td>1.002419e+06</td>\n",
       "      <td>3.0</td>\n",
       "      <td>44.25</td>\n",
       "      <td>-inf</td>\n",
       "    </tr>\n",
       "    <tr>\n",
       "      <td>...</td>\n",
       "      <td>...</td>\n",
       "      <td>...</td>\n",
       "      <td>...</td>\n",
       "    </tr>\n",
       "    <tr>\n",
       "      <td>9.890000e+13</td>\n",
       "      <td>3.0</td>\n",
       "      <td>202.09</td>\n",
       "      <td>0.0</td>\n",
       "    </tr>\n",
       "    <tr>\n",
       "      <td>9.900000e+13</td>\n",
       "      <td>1.0</td>\n",
       "      <td>74.17</td>\n",
       "      <td>0.0</td>\n",
       "    </tr>\n",
       "    <tr>\n",
       "      <td>9.930000e+13</td>\n",
       "      <td>4.0</td>\n",
       "      <td>148.33</td>\n",
       "      <td>-inf</td>\n",
       "    </tr>\n",
       "    <tr>\n",
       "      <td>9.950000e+13</td>\n",
       "      <td>1.0</td>\n",
       "      <td>53.33</td>\n",
       "      <td>0.0</td>\n",
       "    </tr>\n",
       "    <tr>\n",
       "      <td>9.980000e+13</td>\n",
       "      <td>1.0</td>\n",
       "      <td>-69.44</td>\n",
       "      <td>-inf</td>\n",
       "    </tr>\n",
       "  </tbody>\n",
       "</table>\n",
       "<p>25491 rows × 3 columns</p>\n",
       "</div>"
      ],
      "text/plain": [
       "              order_id  net_sales  avg_return_rate\n",
       "customer_id                                       \n",
       "1.000661e+06       5.0      72.22             -inf\n",
       "1.001914e+06       1.0      66.00              0.0\n",
       "1.002167e+06       4.0     139.54             -inf\n",
       "1.002387e+06       1.0      74.17              0.0\n",
       "1.002419e+06       3.0      44.25             -inf\n",
       "...                ...        ...              ...\n",
       "9.890000e+13       3.0     202.09              0.0\n",
       "9.900000e+13       1.0      74.17              0.0\n",
       "9.930000e+13       4.0     148.33             -inf\n",
       "9.950000e+13       1.0      53.33              0.0\n",
       "9.980000e+13       1.0     -69.44             -inf\n",
       "\n",
       "[25491 rows x 3 columns]"
      ]
     },
     "execution_count": 34,
     "metadata": {},
     "output_type": "execute_result"
    }
   ],
   "source": [
    "rfm"
   ]
  },
  {
   "cell_type": "code",
   "execution_count": 76,
   "metadata": {},
   "outputs": [
    {
     "data": {
      "text/plain": [
       "Timestamp('2018-11-01 00:00:00')"
      ]
     },
     "execution_count": 76,
     "metadata": {},
     "output_type": "execute_result"
    }
   ],
   "source": [
    "data.day.min()"
   ]
  },
  {
   "cell_type": "code",
   "execution_count": 75,
   "metadata": {},
   "outputs": [
    {
     "data": {
      "text/plain": [
       "Timestamp('2019-04-30 00:00:00')"
      ]
     },
     "execution_count": 75,
     "metadata": {},
     "output_type": "execute_result"
    }
   ],
   "source": [
    "data.day.max()"
   ]
  },
  {
   "cell_type": "code",
   "execution_count": 15,
   "metadata": {},
   "outputs": [],
   "source": [
    "# Store a date as a reference point for recency calculations\n",
    "PRESENT = dt.datetime(2019, 6, 4)\n",
    "\n",
    "# Convert date to datetime format\n",
    "data['day'] = pd.to_datetime(data['day'])"
   ]
  },
  {
   "cell_type": "code",
   "execution_count": 16,
   "metadata": {},
   "outputs": [],
   "source": [
    "rfm= data.groupby('customer_id').agg({'day': lambda days: (PRESENT - days.max()).days,\n",
    "                                        'order_id': lambda order_id: len(order_id),\n",
    "                                        'net_sales': lambda net_sales: net_sales.sum()})"
   ]
  },
  {
   "cell_type": "code",
   "execution_count": 17,
   "metadata": {},
   "outputs": [
    {
     "data": {
      "text/html": [
       "<div>\n",
       "<style scoped>\n",
       "    .dataframe tbody tr th:only-of-type {\n",
       "        vertical-align: middle;\n",
       "    }\n",
       "\n",
       "    .dataframe tbody tr th {\n",
       "        vertical-align: top;\n",
       "    }\n",
       "\n",
       "    .dataframe thead th {\n",
       "        text-align: right;\n",
       "    }\n",
       "</style>\n",
       "<table border=\"1\" class=\"dataframe\">\n",
       "  <thead>\n",
       "    <tr style=\"text-align: right;\">\n",
       "      <th></th>\n",
       "      <th>day</th>\n",
       "      <th>order_id</th>\n",
       "      <th>net_sales</th>\n",
       "    </tr>\n",
       "    <tr>\n",
       "      <th>customer_id</th>\n",
       "      <th></th>\n",
       "      <th></th>\n",
       "      <th></th>\n",
       "    </tr>\n",
       "  </thead>\n",
       "  <tbody>\n",
       "    <tr>\n",
       "      <td>1.000661e+06</td>\n",
       "      <td>193</td>\n",
       "      <td>3.0</td>\n",
       "      <td>216.67</td>\n",
       "    </tr>\n",
       "    <tr>\n",
       "      <td>1.001914e+06</td>\n",
       "      <td>193</td>\n",
       "      <td>1.0</td>\n",
       "      <td>66.00</td>\n",
       "    </tr>\n",
       "    <tr>\n",
       "      <td>1.002167e+06</td>\n",
       "      <td>88</td>\n",
       "      <td>3.0</td>\n",
       "      <td>195.17</td>\n",
       "    </tr>\n",
       "    <tr>\n",
       "      <td>1.002387e+06</td>\n",
       "      <td>79</td>\n",
       "      <td>1.0</td>\n",
       "      <td>74.17</td>\n",
       "    </tr>\n",
       "    <tr>\n",
       "      <td>1.002419e+06</td>\n",
       "      <td>149</td>\n",
       "      <td>2.0</td>\n",
       "      <td>85.83</td>\n",
       "    </tr>\n",
       "    <tr>\n",
       "      <td>...</td>\n",
       "      <td>...</td>\n",
       "      <td>...</td>\n",
       "      <td>...</td>\n",
       "    </tr>\n",
       "    <tr>\n",
       "      <td>9.780000e+13</td>\n",
       "      <td>74</td>\n",
       "      <td>5.0</td>\n",
       "      <td>215.83</td>\n",
       "    </tr>\n",
       "    <tr>\n",
       "      <td>9.890000e+13</td>\n",
       "      <td>67</td>\n",
       "      <td>3.0</td>\n",
       "      <td>202.09</td>\n",
       "    </tr>\n",
       "    <tr>\n",
       "      <td>9.900000e+13</td>\n",
       "      <td>64</td>\n",
       "      <td>1.0</td>\n",
       "      <td>74.17</td>\n",
       "    </tr>\n",
       "    <tr>\n",
       "      <td>9.930000e+13</td>\n",
       "      <td>212</td>\n",
       "      <td>3.0</td>\n",
       "      <td>222.50</td>\n",
       "    </tr>\n",
       "    <tr>\n",
       "      <td>9.950000e+13</td>\n",
       "      <td>210</td>\n",
       "      <td>1.0</td>\n",
       "      <td>53.33</td>\n",
       "    </tr>\n",
       "  </tbody>\n",
       "</table>\n",
       "<p>24817 rows × 3 columns</p>\n",
       "</div>"
      ],
      "text/plain": [
       "              day  order_id  net_sales\n",
       "customer_id                           \n",
       "1.000661e+06  193       3.0     216.67\n",
       "1.001914e+06  193       1.0      66.00\n",
       "1.002167e+06   88       3.0     195.17\n",
       "1.002387e+06   79       1.0      74.17\n",
       "1.002419e+06  149       2.0      85.83\n",
       "...           ...       ...        ...\n",
       "9.780000e+13   74       5.0     215.83\n",
       "9.890000e+13   67       3.0     202.09\n",
       "9.900000e+13   64       1.0      74.17\n",
       "9.930000e+13  212       3.0     222.50\n",
       "9.950000e+13  210       1.0      53.33\n",
       "\n",
       "[24817 rows x 3 columns]"
      ]
     },
     "execution_count": 17,
     "metadata": {},
     "output_type": "execute_result"
    }
   ],
   "source": [
    "rfm"
   ]
  },
  {
   "cell_type": "code",
   "execution_count": 18,
   "metadata": {},
   "outputs": [
    {
     "data": {
      "image/png": "[encoded data removed]",
      "text/plain": [
       "<Figure size 432x288 with 1 Axes>"
      ]
     },
     "metadata": {
      "needs_background": "light"
     },
     "output_type": "display_data"
    }
   ],
   "source": [
    "plt.hist(rfm.day)\n",
    "plt.show()"
   ]
  },
  {
   "cell_type": "code",
   "execution_count": 19,
   "metadata": {},
   "outputs": [
    {
     "data": {
      "image/png": "[encoded data removed]",
      "text/plain": [
       "<Figure size 432x288 with 1 Axes>"
      ]
     },
     "metadata": {
      "needs_background": "light"
     },
     "output_type": "display_data"
    }
   ],
   "source": [
    "plt.hist(rfm.net_sales)\n",
    "plt.show()"
   ]
  },
  {
   "cell_type": "code",
   "execution_count": 20,
   "metadata": {},
   "outputs": [
    {
     "data": {
      "text/plain": [
       "(array([2.2103e+04, 2.2140e+03, 3.5700e+02, 8.8000e+01, 3.4000e+01,\n",
       "        1.2000e+01, 4.0000e+00, 2.0000e+00, 0.0000e+00, 3.0000e+00]),\n",
       " array([ 1. ,  4.8,  8.6, 12.4, 16.2, 20. , 23.8, 27.6, 31.4, 35.2, 39. ]),\n",
       " <a list of 10 Patch objects>)"
      ]
     },
     "execution_count": 20,
     "metadata": {},
     "output_type": "execute_result"
    },
    {
     "data": {
      "image/png": "[encoded data removed]",
      "text/plain": [
       "<Figure size 432x288 with 1 Axes>"
      ]
     },
     "metadata": {
      "needs_background": "light"
     },
     "output_type": "display_data"
    }
   ],
   "source": [
    "plt.hist(rfm.order_id)"
   ]
  },
  {
   "cell_type": "code",
   "execution_count": 21,
   "metadata": {},
   "outputs": [],
   "source": [
    "rfm.columns=['recency','frequency','monetary']"
   ]
  },
  {
   "cell_type": "code",
   "execution_count": 22,
   "metadata": {},
   "outputs": [],
   "source": [
    "rfm['recency'] = rfm['recency'].astype(int)"
   ]
  },
  {
   "cell_type": "code",
   "execution_count": 23,
   "metadata": {},
   "outputs": [],
   "source": [
    "rfm['monetary'] = rfm['monetary'].astype(int)"
   ]
  },
  {
   "cell_type": "code",
   "execution_count": 77,
   "metadata": {},
   "outputs": [],
   "source": [
    "rfm['frequency'] = rfm['frequency'].astype(int)"
   ]
  },
  {
   "cell_type": "code",
   "execution_count": 78,
   "metadata": {},
   "outputs": [
    {
     "data": {
      "text/html": [
       "<div>\n",
       "<style scoped>\n",
       "    .dataframe tbody tr th:only-of-type {\n",
       "        vertical-align: middle;\n",
       "    }\n",
       "\n",
       "    .dataframe tbody tr th {\n",
       "        vertical-align: top;\n",
       "    }\n",
       "\n",
       "    .dataframe thead th {\n",
       "        text-align: right;\n",
       "    }\n",
       "</style>\n",
       "<table border=\"1\" class=\"dataframe\">\n",
       "  <thead>\n",
       "    <tr style=\"text-align: right;\">\n",
       "      <th></th>\n",
       "      <th>recency</th>\n",
       "      <th>frequency</th>\n",
       "      <th>monetary</th>\n",
       "    </tr>\n",
       "    <tr>\n",
       "      <th>customer_id</th>\n",
       "      <th></th>\n",
       "      <th></th>\n",
       "      <th></th>\n",
       "    </tr>\n",
       "  </thead>\n",
       "  <tbody>\n",
       "    <tr>\n",
       "      <td>1000661.0</td>\n",
       "      <td>193</td>\n",
       "      <td>3</td>\n",
       "      <td>216</td>\n",
       "    </tr>\n",
       "    <tr>\n",
       "      <td>1001914.0</td>\n",
       "      <td>193</td>\n",
       "      <td>1</td>\n",
       "      <td>66</td>\n",
       "    </tr>\n",
       "    <tr>\n",
       "      <td>1002167.0</td>\n",
       "      <td>88</td>\n",
       "      <td>3</td>\n",
       "      <td>195</td>\n",
       "    </tr>\n",
       "    <tr>\n",
       "      <td>1002387.0</td>\n",
       "      <td>79</td>\n",
       "      <td>1</td>\n",
       "      <td>74</td>\n",
       "    </tr>\n",
       "    <tr>\n",
       "      <td>1002419.0</td>\n",
       "      <td>149</td>\n",
       "      <td>2</td>\n",
       "      <td>85</td>\n",
       "    </tr>\n",
       "  </tbody>\n",
       "</table>\n",
       "</div>"
      ],
      "text/plain": [
       "             recency  frequency  monetary\n",
       "customer_id                              \n",
       "1000661.0        193          3       216\n",
       "1001914.0        193          1        66\n",
       "1002167.0         88          3       195\n",
       "1002387.0         79          1        74\n",
       "1002419.0        149          2        85"
      ]
     },
     "execution_count": 78,
     "metadata": {},
     "output_type": "execute_result"
    }
   ],
   "source": [
    "rfm.head()"
   ]
  },
  {
   "cell_type": "code",
   "execution_count": 25,
   "metadata": {},
   "outputs": [
    {
     "data": {
      "text/plain": [
       "array([[<matplotlib.axes._subplots.AxesSubplot object at 0x0000029CD881B088>]],\n",
       "      dtype=object)"
      ]
     },
     "execution_count": 25,
     "metadata": {},
     "output_type": "execute_result"
    },
    {
     "data": {
      "image/png": "[encoded data removed]",
      "text/plain": [
       "<Figure size 432x288 with 1 Axes>"
      ]
     },
     "metadata": {
      "needs_background": "light"
     },
     "output_type": "display_data"
    }
   ],
   "source": [
    "# Histogram for Recency Data (UK)\n",
    "rfm.hist(column='recency')"
   ]
  },
  {
   "cell_type": "code",
   "execution_count": 26,
   "metadata": {},
   "outputs": [
    {
     "data": {
      "text/plain": [
       "array([[<matplotlib.axes._subplots.AxesSubplot object at 0x0000029CD886C748>]],\n",
       "      dtype=object)"
      ]
     },
     "execution_count": 26,
     "metadata": {},
     "output_type": "execute_result"
    },
    {
     "data": {
      "image/png": "[encoded data removed]",
      "text/plain": [
       "<Figure size 432x288 with 1 Axes>"
      ]
     },
     "metadata": {
      "needs_background": "light"
     },
     "output_type": "display_data"
    }
   ],
   "source": [
    "# Histogram for Frequency Data (UK)\n",
    "\n",
    "rfm.hist(column='frequency')"
   ]
  },
  {
   "cell_type": "code",
   "execution_count": 27,
   "metadata": {},
   "outputs": [
    {
     "data": {
      "text/plain": [
       "array([[<matplotlib.axes._subplots.AxesSubplot object at 0x0000029CD8914C48>]],\n",
       "      dtype=object)"
      ]
     },
     "execution_count": 27,
     "metadata": {},
     "output_type": "execute_result"
    },
    {
     "data": {
      "image/png": "[encoded data removed]",
      "text/plain": [
       "<Figure size 432x288 with 1 Axes>"
      ]
     },
     "metadata": {
      "needs_background": "light"
     },
     "output_type": "display_data"
    }
   ],
   "source": [
    "# Histogram for Monetary Data (UK)\n",
    "rfm.hist(column='monetary')"
   ]
  },
  {
   "cell_type": "code",
   "execution_count": 28,
   "metadata": {},
   "outputs": [],
   "source": [
    "# Save the cleaned file\n",
    "rfm.to_csv('rfm.csv')"
   ]
  },
  {
   "cell_type": "code",
   "execution_count": 29,
   "metadata": {},
   "outputs": [
    {
     "data": {
      "text/plain": [
       "{'recency': {0.2: 61.0, 0.4: 96.0, 0.6: 148.0, 0.8: 182.0},\n",
       " 'frequency': {0.2: 1.0, 0.4: 1.0, 0.6: 2.0, 0.8: 3.0},\n",
       " 'monetary': {0.2: 66.0, 0.4: 82.0, 0.6: 145.0, 0.8: 225.0}}"
      ]
     },
     "execution_count": 29,
     "metadata": {},
     "output_type": "execute_result"
    }
   ],
   "source": [
    "quintiles = rfm[['recency', 'frequency', 'monetary']].quantile([.2, .4, .6, .8]).to_dict()\n",
    "quintiles"
   ]
  },
  {
   "cell_type": "code",
   "execution_count": 30,
   "metadata": {},
   "outputs": [],
   "source": [
    "rfm_segment = rfm.copy()"
   ]
  },
  {
   "cell_type": "code",
   "execution_count": 31,
   "metadata": {},
   "outputs": [],
   "source": [
    "def r_score(x):\n",
    "    if x <= quintiles['recency'][.2]:\n",
    "        return 5\n",
    "    elif x <= quintiles['recency'][.4]:\n",
    "        return 4\n",
    "    elif x <= quintiles['recency'][.6]:\n",
    "        return 3\n",
    "    elif x <= quintiles['recency'][.8]:\n",
    "        return 2\n",
    "    else:\n",
    "        return 1\n",
    "    \n",
    "def fm_score(x, c):\n",
    "    if x <= quintiles[c][.2]:\n",
    "        return 1\n",
    "    elif x <= quintiles[c][.4]:\n",
    "        return 2\n",
    "    elif x <= quintiles[c][.6]:\n",
    "        return 3\n",
    "    elif x <= quintiles[c][.8]:\n",
    "        return 4\n",
    "    else:\n",
    "        return 5 "
   ]
  },
  {
   "cell_type": "code",
   "execution_count": 32,
   "metadata": {},
   "outputs": [],
   "source": [
    "rfm['R'] = rfm['recency'].apply(lambda x: r_score(x))\n",
    "rfm['F'] = rfm['frequency'].apply(lambda x: fm_score(x, 'frequency'))\n",
    "rfm['M'] = rfm['monetary'].apply(lambda x: fm_score(x, 'monetary'))"
   ]
  },
  {
   "cell_type": "code",
   "execution_count": 33,
   "metadata": {},
   "outputs": [
    {
     "data": {
      "text/html": [
       "<div>\n",
       "<style scoped>\n",
       "    .dataframe tbody tr th:only-of-type {\n",
       "        vertical-align: middle;\n",
       "    }\n",
       "\n",
       "    .dataframe tbody tr th {\n",
       "        vertical-align: top;\n",
       "    }\n",
       "\n",
       "    .dataframe thead th {\n",
       "        text-align: right;\n",
       "    }\n",
       "</style>\n",
       "<table border=\"1\" class=\"dataframe\">\n",
       "  <thead>\n",
       "    <tr style=\"text-align: right;\">\n",
       "      <th></th>\n",
       "      <th>recency</th>\n",
       "      <th>frequency</th>\n",
       "      <th>monetary</th>\n",
       "      <th>R</th>\n",
       "      <th>F</th>\n",
       "      <th>M</th>\n",
       "      <th>RFM Score</th>\n",
       "    </tr>\n",
       "    <tr>\n",
       "      <th>customer_id</th>\n",
       "      <th></th>\n",
       "      <th></th>\n",
       "      <th></th>\n",
       "      <th></th>\n",
       "      <th></th>\n",
       "      <th></th>\n",
       "      <th></th>\n",
       "    </tr>\n",
       "  </thead>\n",
       "  <tbody>\n",
       "    <tr>\n",
       "      <td>1000661.0</td>\n",
       "      <td>193</td>\n",
       "      <td>3.0</td>\n",
       "      <td>216</td>\n",
       "      <td>1</td>\n",
       "      <td>4</td>\n",
       "      <td>4</td>\n",
       "      <td>144</td>\n",
       "    </tr>\n",
       "    <tr>\n",
       "      <td>1001914.0</td>\n",
       "      <td>193</td>\n",
       "      <td>1.0</td>\n",
       "      <td>66</td>\n",
       "      <td>1</td>\n",
       "      <td>1</td>\n",
       "      <td>1</td>\n",
       "      <td>111</td>\n",
       "    </tr>\n",
       "    <tr>\n",
       "      <td>1002167.0</td>\n",
       "      <td>88</td>\n",
       "      <td>3.0</td>\n",
       "      <td>195</td>\n",
       "      <td>4</td>\n",
       "      <td>4</td>\n",
       "      <td>4</td>\n",
       "      <td>444</td>\n",
       "    </tr>\n",
       "    <tr>\n",
       "      <td>1002387.0</td>\n",
       "      <td>79</td>\n",
       "      <td>1.0</td>\n",
       "      <td>74</td>\n",
       "      <td>4</td>\n",
       "      <td>1</td>\n",
       "      <td>2</td>\n",
       "      <td>412</td>\n",
       "    </tr>\n",
       "    <tr>\n",
       "      <td>1002419.0</td>\n",
       "      <td>149</td>\n",
       "      <td>2.0</td>\n",
       "      <td>85</td>\n",
       "      <td>2</td>\n",
       "      <td>3</td>\n",
       "      <td>3</td>\n",
       "      <td>233</td>\n",
       "    </tr>\n",
       "  </tbody>\n",
       "</table>\n",
       "</div>"
      ],
      "text/plain": [
       "             recency  frequency  monetary  R  F  M RFM Score\n",
       "customer_id                                                 \n",
       "1000661.0        193        3.0       216  1  4  4       144\n",
       "1001914.0        193        1.0        66  1  1  1       111\n",
       "1002167.0         88        3.0       195  4  4  4       444\n",
       "1002387.0         79        1.0        74  4  1  2       412\n",
       "1002419.0        149        2.0        85  2  3  3       233"
      ]
     },
     "execution_count": 33,
     "metadata": {},
     "output_type": "execute_result"
    }
   ],
   "source": [
    "rfm['RFM Score'] = rfm['R'].map(str) + rfm['F'].map(str) + rfm['M'].map(str)\n",
    "rfm.head()"
   ]
  },
  {
   "cell_type": "code",
   "execution_count": 34,
   "metadata": {},
   "outputs": [
    {
     "data": {
      "text/html": [
       "<div>\n",
       "<style scoped>\n",
       "    .dataframe tbody tr th:only-of-type {\n",
       "        vertical-align: middle;\n",
       "    }\n",
       "\n",
       "    .dataframe tbody tr th {\n",
       "        vertical-align: top;\n",
       "    }\n",
       "\n",
       "    .dataframe thead th {\n",
       "        text-align: right;\n",
       "    }\n",
       "</style>\n",
       "<table border=\"1\" class=\"dataframe\">\n",
       "  <thead>\n",
       "    <tr style=\"text-align: right;\">\n",
       "      <th></th>\n",
       "      <th>recency</th>\n",
       "      <th>frequency</th>\n",
       "      <th>monetary</th>\n",
       "      <th>R</th>\n",
       "      <th>F</th>\n",
       "      <th>M</th>\n",
       "      <th>RFM Score</th>\n",
       "      <th>Segment</th>\n",
       "    </tr>\n",
       "    <tr>\n",
       "      <th>customer_id</th>\n",
       "      <th></th>\n",
       "      <th></th>\n",
       "      <th></th>\n",
       "      <th></th>\n",
       "      <th></th>\n",
       "      <th></th>\n",
       "      <th></th>\n",
       "      <th></th>\n",
       "    </tr>\n",
       "  </thead>\n",
       "  <tbody>\n",
       "    <tr>\n",
       "      <td>1000661.0</td>\n",
       "      <td>193</td>\n",
       "      <td>3.0</td>\n",
       "      <td>216</td>\n",
       "      <td>1</td>\n",
       "      <td>4</td>\n",
       "      <td>4</td>\n",
       "      <td>144</td>\n",
       "      <td>at risk</td>\n",
       "    </tr>\n",
       "    <tr>\n",
       "      <td>1001914.0</td>\n",
       "      <td>193</td>\n",
       "      <td>1.0</td>\n",
       "      <td>66</td>\n",
       "      <td>1</td>\n",
       "      <td>1</td>\n",
       "      <td>1</td>\n",
       "      <td>111</td>\n",
       "      <td>at risk</td>\n",
       "    </tr>\n",
       "    <tr>\n",
       "      <td>1002167.0</td>\n",
       "      <td>88</td>\n",
       "      <td>3.0</td>\n",
       "      <td>195</td>\n",
       "      <td>4</td>\n",
       "      <td>4</td>\n",
       "      <td>4</td>\n",
       "      <td>444</td>\n",
       "      <td>loyal customers</td>\n",
       "    </tr>\n",
       "    <tr>\n",
       "      <td>1002387.0</td>\n",
       "      <td>79</td>\n",
       "      <td>1.0</td>\n",
       "      <td>74</td>\n",
       "      <td>4</td>\n",
       "      <td>1</td>\n",
       "      <td>2</td>\n",
       "      <td>412</td>\n",
       "      <td>new customers</td>\n",
       "    </tr>\n",
       "    <tr>\n",
       "      <td>1002419.0</td>\n",
       "      <td>149</td>\n",
       "      <td>2.0</td>\n",
       "      <td>85</td>\n",
       "      <td>2</td>\n",
       "      <td>3</td>\n",
       "      <td>3</td>\n",
       "      <td>233</td>\n",
       "      <td>at risk</td>\n",
       "    </tr>\n",
       "  </tbody>\n",
       "</table>\n",
       "</div>"
      ],
      "text/plain": [
       "             recency  frequency  monetary  R  F  M RFM Score          Segment\n",
       "customer_id                                                                  \n",
       "1000661.0        193        3.0       216  1  4  4       144          at risk\n",
       "1001914.0        193        1.0        66  1  1  1       111          at risk\n",
       "1002167.0         88        3.0       195  4  4  4       444  loyal customers\n",
       "1002387.0         79        1.0        74  4  1  2       412    new customers\n",
       "1002419.0        149        2.0        85  2  3  3       233          at risk"
      ]
     },
     "execution_count": 34,
     "metadata": {},
     "output_type": "execute_result"
    }
   ],
   "source": [
    "segt_map = {\n",
    "    r'[1-2][1-2]': 'at risk',\n",
    "    r'[1-2][3-4]': 'at risk',\n",
    "    r'[1-2]5': 'can\\'t loose',\n",
    "    r'3[1-2]': 'need attention',\n",
    "    r'33': 'need attention',\n",
    "    r'[3-4][4-5]': 'loyal customers',\n",
    "    r'41': 'new customers',\n",
    "    r'51': 'new customers',\n",
    "    r'[4-5][2-3]': 'champions',\n",
    "    r'5[4-5]': 'champions'\n",
    "}\n",
    "\n",
    "rfm['Segment'] = rfm['R'].map(str) + rfm['F'].map(str)\n",
    "rfm['Segment'] = rfm['Segment'].replace(segt_map, regex=True)\n",
    "rfm.head()"
   ]
  },
  {
   "cell_type": "code",
   "execution_count": 35,
   "metadata": {},
   "outputs": [
    {
     "data": {
      "image/png": "[encoded data removed]",
      "text/plain": [
       "<Figure size 720x288 with 2 Axes>"
      ]
     },
     "metadata": {
      "needs_background": "light"
     },
     "output_type": "display_data"
    }
   ],
   "source": [
    "# plot the distribution of customers over R and F\n",
    "fig, axes = plt.subplots(nrows=1, ncols=2, figsize=(10, 4))\n",
    "\n",
    "for i, p in enumerate(['R', 'F']):\n",
    "    parameters = {'R':'Recency', 'F':'Frequency'}\n",
    "    y = rfm[p].value_counts().sort_index()\n",
    "    x = y.index\n",
    "    ax = axes[i]\n",
    "    bars = ax.bar(x, y, color='silver')\n",
    "    ax.set_frame_on(False)\n",
    "    ax.tick_params(left=False, labelleft=False, bottom=False)\n",
    "    ax.set_title('Distribution of {}'.format(parameters[p]),\n",
    "                fontsize=14)\n",
    "    for bar in bars:\n",
    "        value = bar.get_height()\n",
    "        if value == y.max():\n",
    "            bar.set_color('firebrick')\n",
    "        ax.text(bar.get_x() + bar.get_width() / 2,\n",
    "                value - 5,\n",
    "                '{}\\n({}%)'.format(int(value), int(value * 100 / y.sum())),\n",
    "               ha='center',\n",
    "               va='top',\n",
    "               color='w')\n",
    "        \n",
    "plt.show()"
   ]
  },
  {
   "cell_type": "code",
   "execution_count": 36,
   "metadata": {},
   "outputs": [
    {
     "data": {
      "text/plain": [
       "can't loose         947\n",
       "new customers      3217\n",
       "loyal customers    3309\n",
       "need attention     3549\n",
       "champions          4892\n",
       "at risk            8903\n",
       "Name: Segment, dtype: int64"
      ]
     },
     "execution_count": 36,
     "metadata": {},
     "output_type": "execute_result"
    }
   ],
   "source": [
    "segments_counts = rfm['Segment'].value_counts().sort_values(ascending=True)\n",
    "\n",
    "segments_counts"
   ]
  },
  {
   "cell_type": "code",
   "execution_count": 37,
   "metadata": {},
   "outputs": [
    {
     "data": {
      "image/png": "[encoded data removed]",
      "text/plain": [
       "<Figure size 432x288 with 1 Axes>"
      ]
     },
     "metadata": {
      "needs_background": "light"
     },
     "output_type": "display_data"
    }
   ],
   "source": [
    "fig, ax = plt.subplots()\n",
    "\n",
    "bars = ax.barh(range(len(segments_counts)),\n",
    "              segments_counts,\n",
    "              color='silver')\n",
    "ax.set_frame_on(False)\n",
    "ax.tick_params(left=False,\n",
    "               bottom=False,\n",
    "               labelbottom=False)\n",
    "ax.set_yticks(range(len(segments_counts)))\n",
    "ax.set_yticklabels(segments_counts.index)\n",
    "\n",
    "for i, bar in enumerate(bars):\n",
    "        value = bar.get_width()\n",
    "        if segments_counts.index[i] in ['champions', 'loyal customers']:\n",
    "            bar.set_color('green')\n",
    "        ax.text(value,\n",
    "                bar.get_y() + bar.get_height()/2,\n",
    "                '{:,} ({:}%)'.format(int(value),\n",
    "                                   int(value*100/segments_counts.sum())),\n",
    "                va='center',\n",
    "                ha='left'\n",
    "               )\n",
    "\n",
    "plt.show()"
   ]
  },
  {
   "cell_type": "code",
   "execution_count": 38,
   "metadata": {},
   "outputs": [
    {
     "data": {
      "text/html": [
       "<div>\n",
       "<style scoped>\n",
       "    .dataframe tbody tr th:only-of-type {\n",
       "        vertical-align: middle;\n",
       "    }\n",
       "\n",
       "    .dataframe tbody tr th {\n",
       "        vertical-align: top;\n",
       "    }\n",
       "\n",
       "    .dataframe thead th {\n",
       "        text-align: right;\n",
       "    }\n",
       "</style>\n",
       "<table border=\"1\" class=\"dataframe\">\n",
       "  <thead>\n",
       "    <tr style=\"text-align: right;\">\n",
       "      <th></th>\n",
       "      <th>recency</th>\n",
       "      <th>frequency</th>\n",
       "      <th>monetary</th>\n",
       "      <th>R</th>\n",
       "      <th>F</th>\n",
       "      <th>M</th>\n",
       "      <th>RFM Score</th>\n",
       "      <th>Segment</th>\n",
       "    </tr>\n",
       "    <tr>\n",
       "      <th>customer_id</th>\n",
       "      <th></th>\n",
       "      <th></th>\n",
       "      <th></th>\n",
       "      <th></th>\n",
       "      <th></th>\n",
       "      <th></th>\n",
       "      <th></th>\n",
       "      <th></th>\n",
       "    </tr>\n",
       "  </thead>\n",
       "  <tbody>\n",
       "    <tr>\n",
       "      <td>8325158.0</td>\n",
       "      <td>39</td>\n",
       "      <td>37.0</td>\n",
       "      <td>2609</td>\n",
       "      <td>5</td>\n",
       "      <td>5</td>\n",
       "      <td>5</td>\n",
       "      <td>555</td>\n",
       "      <td>champions</td>\n",
       "    </tr>\n",
       "    <tr>\n",
       "      <td>6578818.0</td>\n",
       "      <td>40</td>\n",
       "      <td>36.0</td>\n",
       "      <td>2185</td>\n",
       "      <td>5</td>\n",
       "      <td>5</td>\n",
       "      <td>5</td>\n",
       "      <td>555</td>\n",
       "      <td>champions</td>\n",
       "    </tr>\n",
       "    <tr>\n",
       "      <td>7843272.0</td>\n",
       "      <td>35</td>\n",
       "      <td>31.0</td>\n",
       "      <td>2106</td>\n",
       "      <td>5</td>\n",
       "      <td>5</td>\n",
       "      <td>5</td>\n",
       "      <td>555</td>\n",
       "      <td>champions</td>\n",
       "    </tr>\n",
       "    <tr>\n",
       "      <td>7653992.0</td>\n",
       "      <td>48</td>\n",
       "      <td>17.0</td>\n",
       "      <td>1869</td>\n",
       "      <td>5</td>\n",
       "      <td>5</td>\n",
       "      <td>5</td>\n",
       "      <td>555</td>\n",
       "      <td>champions</td>\n",
       "    </tr>\n",
       "    <tr>\n",
       "      <td>4509306.0</td>\n",
       "      <td>37</td>\n",
       "      <td>28.0</td>\n",
       "      <td>1799</td>\n",
       "      <td>5</td>\n",
       "      <td>5</td>\n",
       "      <td>5</td>\n",
       "      <td>555</td>\n",
       "      <td>champions</td>\n",
       "    </tr>\n",
       "  </tbody>\n",
       "</table>\n",
       "</div>"
      ],
      "text/plain": [
       "             recency  frequency  monetary  R  F  M RFM Score    Segment\n",
       "customer_id                                                            \n",
       "8325158.0         39       37.0      2609  5  5  5       555  champions\n",
       "6578818.0         40       36.0      2185  5  5  5       555  champions\n",
       "7843272.0         35       31.0      2106  5  5  5       555  champions\n",
       "7653992.0         48       17.0      1869  5  5  5       555  champions\n",
       "4509306.0         37       28.0      1799  5  5  5       555  champions"
      ]
     },
     "execution_count": 38,
     "metadata": {},
     "output_type": "execute_result"
    }
   ],
   "source": [
    "rfm[rfm['RFM Score']=='555'].sort_values('monetary', ascending=False).head()"
   ]
  },
  {
   "cell_type": "code",
   "execution_count": 39,
   "metadata": {},
   "outputs": [
    {
     "data": {
      "text/html": [
       "<div>\n",
       "<style scoped>\n",
       "    .dataframe tbody tr th:only-of-type {\n",
       "        vertical-align: middle;\n",
       "    }\n",
       "\n",
       "    .dataframe tbody tr th {\n",
       "        vertical-align: top;\n",
       "    }\n",
       "\n",
       "    .dataframe thead th {\n",
       "        text-align: right;\n",
       "    }\n",
       "</style>\n",
       "<table border=\"1\" class=\"dataframe\">\n",
       "  <thead>\n",
       "    <tr style=\"text-align: right;\">\n",
       "      <th></th>\n",
       "      <th>recency</th>\n",
       "      <th>frequency</th>\n",
       "      <th>monetary</th>\n",
       "      <th>R</th>\n",
       "      <th>F</th>\n",
       "      <th>M</th>\n",
       "      <th>RFM Score</th>\n",
       "      <th>Segment</th>\n",
       "    </tr>\n",
       "    <tr>\n",
       "      <th>customer_id</th>\n",
       "      <th></th>\n",
       "      <th></th>\n",
       "      <th></th>\n",
       "      <th></th>\n",
       "      <th></th>\n",
       "      <th></th>\n",
       "      <th></th>\n",
       "      <th></th>\n",
       "    </tr>\n",
       "  </thead>\n",
       "  <tbody>\n",
       "    <tr>\n",
       "      <td>5529354.0</td>\n",
       "      <td>190</td>\n",
       "      <td>12.0</td>\n",
       "      <td>821</td>\n",
       "      <td>1</td>\n",
       "      <td>5</td>\n",
       "      <td>5</td>\n",
       "      <td>155</td>\n",
       "      <td>can't loose</td>\n",
       "    </tr>\n",
       "    <tr>\n",
       "      <td>5806564.0</td>\n",
       "      <td>194</td>\n",
       "      <td>10.0</td>\n",
       "      <td>718</td>\n",
       "      <td>1</td>\n",
       "      <td>5</td>\n",
       "      <td>5</td>\n",
       "      <td>155</td>\n",
       "      <td>can't loose</td>\n",
       "    </tr>\n",
       "    <tr>\n",
       "      <td>2085902.0</td>\n",
       "      <td>190</td>\n",
       "      <td>11.0</td>\n",
       "      <td>686</td>\n",
       "      <td>1</td>\n",
       "      <td>5</td>\n",
       "      <td>5</td>\n",
       "      <td>155</td>\n",
       "      <td>can't loose</td>\n",
       "    </tr>\n",
       "    <tr>\n",
       "      <td>1586393.0</td>\n",
       "      <td>198</td>\n",
       "      <td>7.0</td>\n",
       "      <td>682</td>\n",
       "      <td>1</td>\n",
       "      <td>5</td>\n",
       "      <td>5</td>\n",
       "      <td>155</td>\n",
       "      <td>can't loose</td>\n",
       "    </tr>\n",
       "    <tr>\n",
       "      <td>5408532.0</td>\n",
       "      <td>200</td>\n",
       "      <td>8.0</td>\n",
       "      <td>644</td>\n",
       "      <td>1</td>\n",
       "      <td>5</td>\n",
       "      <td>5</td>\n",
       "      <td>155</td>\n",
       "      <td>can't loose</td>\n",
       "    </tr>\n",
       "  </tbody>\n",
       "</table>\n",
       "</div>"
      ],
      "text/plain": [
       "             recency  frequency  monetary  R  F  M RFM Score      Segment\n",
       "customer_id                                                              \n",
       "5529354.0        190       12.0       821  1  5  5       155  can't loose\n",
       "5806564.0        194       10.0       718  1  5  5       155  can't loose\n",
       "2085902.0        190       11.0       686  1  5  5       155  can't loose\n",
       "1586393.0        198        7.0       682  1  5  5       155  can't loose\n",
       "5408532.0        200        8.0       644  1  5  5       155  can't loose"
      ]
     },
     "execution_count": 39,
     "metadata": {},
     "output_type": "execute_result"
    }
   ],
   "source": [
    "rfm[rfm['R'] <= 1 ].sort_values('monetary', ascending=False).head()"
   ]
  },
  {
   "cell_type": "code",
   "execution_count": 40,
   "metadata": {},
   "outputs": [
    {
     "data": {
      "text/html": [
       "<div>\n",
       "<style scoped>\n",
       "    .dataframe tbody tr th:only-of-type {\n",
       "        vertical-align: middle;\n",
       "    }\n",
       "\n",
       "    .dataframe tbody tr th {\n",
       "        vertical-align: top;\n",
       "    }\n",
       "\n",
       "    .dataframe thead th {\n",
       "        text-align: right;\n",
       "    }\n",
       "</style>\n",
       "<table border=\"1\" class=\"dataframe\">\n",
       "  <thead>\n",
       "    <tr style=\"text-align: right;\">\n",
       "      <th></th>\n",
       "      <th>recency</th>\n",
       "      <th>frequency</th>\n",
       "      <th>monetary</th>\n",
       "      <th>R</th>\n",
       "      <th>F</th>\n",
       "      <th>M</th>\n",
       "      <th>RFM Score</th>\n",
       "      <th>Segment</th>\n",
       "    </tr>\n",
       "    <tr>\n",
       "      <th>customer_id</th>\n",
       "      <th></th>\n",
       "      <th></th>\n",
       "      <th></th>\n",
       "      <th></th>\n",
       "      <th></th>\n",
       "      <th></th>\n",
       "      <th></th>\n",
       "      <th></th>\n",
       "    </tr>\n",
       "  </thead>\n",
       "  <tbody>\n",
       "    <tr>\n",
       "      <td>7373135.0</td>\n",
       "      <td>215</td>\n",
       "      <td>1.0</td>\n",
       "      <td>63</td>\n",
       "      <td>1</td>\n",
       "      <td>1</td>\n",
       "      <td>1</td>\n",
       "      <td>111</td>\n",
       "      <td>at risk</td>\n",
       "    </tr>\n",
       "    <tr>\n",
       "      <td>2015557.0</td>\n",
       "      <td>215</td>\n",
       "      <td>1.0</td>\n",
       "      <td>53</td>\n",
       "      <td>1</td>\n",
       "      <td>1</td>\n",
       "      <td>1</td>\n",
       "      <td>111</td>\n",
       "      <td>at risk</td>\n",
       "    </tr>\n",
       "    <tr>\n",
       "      <td>1200204.0</td>\n",
       "      <td>215</td>\n",
       "      <td>1.0</td>\n",
       "      <td>53</td>\n",
       "      <td>1</td>\n",
       "      <td>1</td>\n",
       "      <td>1</td>\n",
       "      <td>111</td>\n",
       "      <td>at risk</td>\n",
       "    </tr>\n",
       "    <tr>\n",
       "      <td>8023084.0</td>\n",
       "      <td>215</td>\n",
       "      <td>1.0</td>\n",
       "      <td>66</td>\n",
       "      <td>1</td>\n",
       "      <td>1</td>\n",
       "      <td>1</td>\n",
       "      <td>111</td>\n",
       "      <td>at risk</td>\n",
       "    </tr>\n",
       "    <tr>\n",
       "      <td>8017033.0</td>\n",
       "      <td>215</td>\n",
       "      <td>1.0</td>\n",
       "      <td>61</td>\n",
       "      <td>1</td>\n",
       "      <td>1</td>\n",
       "      <td>1</td>\n",
       "      <td>111</td>\n",
       "      <td>at risk</td>\n",
       "    </tr>\n",
       "  </tbody>\n",
       "</table>\n",
       "</div>"
      ],
      "text/plain": [
       "             recency  frequency  monetary  R  F  M RFM Score  Segment\n",
       "customer_id                                                          \n",
       "7373135.0        215        1.0        63  1  1  1       111  at risk\n",
       "2015557.0        215        1.0        53  1  1  1       111  at risk\n",
       "1200204.0        215        1.0        53  1  1  1       111  at risk\n",
       "8023084.0        215        1.0        66  1  1  1       111  at risk\n",
       "8017033.0        215        1.0        61  1  1  1       111  at risk"
      ]
     },
     "execution_count": 40,
     "metadata": {},
     "output_type": "execute_result"
    }
   ],
   "source": [
    "rfm[rfm['RFM Score']=='111'].sort_values('recency',ascending=False).head()"
   ]
  },
  {
   "cell_type": "code",
   "execution_count": 41,
   "metadata": {},
   "outputs": [],
   "source": [
    "rfm = pd.read_csv('rfm.csv', index_col ='customer_id')"
   ]
  },
  {
   "cell_type": "code",
   "execution_count": 42,
   "metadata": {},
   "outputs": [
    {
     "data": {
      "text/plain": [
       "35"
      ]
     },
     "execution_count": 42,
     "metadata": {},
     "output_type": "execute_result"
    }
   ],
   "source": [
    "rfm.recency.min()"
   ]
  },
  {
   "cell_type": "code",
   "execution_count": 43,
   "metadata": {},
   "outputs": [
    {
     "data": {
      "text/plain": [
       "<matplotlib.axes._subplots.AxesSubplot at 0x29cd83f3ec8>"
      ]
     },
     "execution_count": 43,
     "metadata": {},
     "output_type": "execute_result"
    },
    {
     "data": {
      "image/png": "[encoded data removed]",
      "text/plain": [
       "<Figure size 432x288 with 1 Axes>"
      ]
     },
     "metadata": {
      "needs_background": "light"
     },
     "output_type": "display_data"
    }
   ],
   "source": [
    "# Create box plots to check for outliers\n",
    "rfm.boxplot()"
   ]
  },
  {
   "cell_type": "code",
   "execution_count": 44,
   "metadata": {},
   "outputs": [
    {
     "name": "stdout",
     "output_type": "stream",
     "text": [
      "[[1.29665541 0.2889426  0.39202633]\n",
      " [1.29665541 0.65568769 0.65530483]\n",
      " [0.58632303 0.2889426  0.24539997]\n",
      " ...\n",
      " [1.01671811 0.65568769 0.59944717]\n",
      " [1.63738484 0.2889426  0.43391958]\n",
      " [1.60151859 0.65568769 0.74607353]]\n"
     ]
    }
   ],
   "source": [
    "# Calculate Z scores to normalize the data\n",
    "from scipy import stats\n",
    "import numpy as np\n",
    "z = np.abs(stats.zscore(rfm))\n",
    "print(z)"
   ]
  },
  {
   "cell_type": "code",
   "execution_count": 45,
   "metadata": {},
   "outputs": [],
   "source": [
    "rfm_clean = rfm[(z < 3).all(axis=1)]"
   ]
  },
  {
   "cell_type": "code",
   "execution_count": 46,
   "metadata": {},
   "outputs": [
    {
     "data": {
      "text/plain": [
       "(24817, 3)"
      ]
     },
     "execution_count": 46,
     "metadata": {},
     "output_type": "execute_result"
    }
   ],
   "source": [
    "rfm.shape"
   ]
  },
  {
   "cell_type": "code",
   "execution_count": 47,
   "metadata": {},
   "outputs": [
    {
     "data": {
      "text/plain": [
       "(24225, 3)"
      ]
     },
     "execution_count": 47,
     "metadata": {},
     "output_type": "execute_result"
    }
   ],
   "source": [
    "rfm_clean.shape"
   ]
  },
  {
   "cell_type": "code",
   "execution_count": 48,
   "metadata": {},
   "outputs": [
    {
     "data": {
      "text/plain": [
       "<matplotlib.axes._subplots.AxesSubplot at 0x29cd8380808>"
      ]
     },
     "execution_count": 48,
     "metadata": {},
     "output_type": "execute_result"
    },
    {
     "data": {
      "image/png": "[encoded data removed]",
      "text/plain": [
       "<Figure size 432x288 with 1 Axes>"
      ]
     },
     "metadata": {
      "needs_background": "light"
     },
     "output_type": "display_data"
    }
   ],
   "source": [
    "rfm_clean.boxplot(showfliers=False)"
   ]
  },
  {
   "cell_type": "code",
   "execution_count": 49,
   "metadata": {},
   "outputs": [
    {
     "data": {
      "text/plain": [
       "array([[<matplotlib.axes._subplots.AxesSubplot object at 0x0000029CD83F3948>]],\n",
       "      dtype=object)"
      ]
     },
     "execution_count": 49,
     "metadata": {},
     "output_type": "execute_result"
    },
    {
     "data": {
      "image/png": "[encoded data removed]",
      "text/plain": [
       "<Figure size 432x288 with 1 Axes>"
      ]
     },
     "metadata": {
      "needs_background": "light"
     },
     "output_type": "display_data"
    }
   ],
   "source": [
    "rfm_clean.hist(column='recency')"
   ]
  },
  {
   "cell_type": "code",
   "execution_count": 50,
   "metadata": {},
   "outputs": [
    {
     "data": {
      "text/plain": [
       "array([[<matplotlib.axes._subplots.AxesSubplot object at 0x0000029CD836D7C8>]],\n",
       "      dtype=object)"
      ]
     },
     "execution_count": 50,
     "metadata": {},
     "output_type": "execute_result"
    },
    {
     "data": {
      "image/png": "[encoded data removed]",
      "text/plain": [
       "<Figure size 432x288 with 1 Axes>"
      ]
     },
     "metadata": {
      "needs_background": "light"
     },
     "output_type": "display_data"
    }
   ],
   "source": [
    "rfm_clean.hist(column='frequency')"
   ]
  },
  {
   "cell_type": "code",
   "execution_count": 51,
   "metadata": {},
   "outputs": [
    {
     "data": {
      "text/plain": [
       "array([[<matplotlib.axes._subplots.AxesSubplot object at 0x0000029CDB30F9C8>]],\n",
       "      dtype=object)"
      ]
     },
     "execution_count": 51,
     "metadata": {},
     "output_type": "execute_result"
    },
    {
     "data": {
      "image/png": "[encoded data removed]",
      "text/plain": [
       "<Figure size 432x288 with 1 Axes>"
      ]
     },
     "metadata": {
      "needs_background": "light"
     },
     "output_type": "display_data"
    }
   ],
   "source": [
    "rfm_clean.hist(column='monetary')"
   ]
  },
  {
   "cell_type": "code",
   "execution_count": 52,
   "metadata": {},
   "outputs": [],
   "source": [
    "X=rfm_clean"
   ]
  },
  {
   "cell_type": "code",
   "execution_count": 53,
   "metadata": {},
   "outputs": [
    {
     "data": {
      "image/png": "[encoded data removed]",
      "text/plain": [
       "<Figure size 432x288 with 1 Axes>"
      ]
     },
     "metadata": {
      "needs_background": "light"
     },
     "output_type": "display_data"
    }
   ],
   "source": [
    "# Choose number of Clusters using the elbow method\n",
    "# Within cluster sum of squares (wcss)\n",
    "from sklearn.cluster import KMeans\n",
    "# start with 10 number of clusters\n",
    "wcss = []\n",
    "for i in range(1,10):\n",
    "    kmeans = KMeans(n_clusters =i, init = 'k-means++', max_iter =300, n_init =10, random_state =0)\n",
    "    kmeans.fit(X)\n",
    "    wcss.append(kmeans.inertia_)\n",
    "plt.plot(range(1,10), wcss)\n",
    "plt.title('The Elbow Method')\n",
    "plt.xlabel('Number of Clusters')\n",
    "plt.ylabel('WCSS')\n",
    "plt.show()"
   ]
  },
  {
   "cell_type": "code",
   "execution_count": 54,
   "metadata": {},
   "outputs": [],
   "source": [
    "# Fitting K Means to the Datatset using k = 3\n",
    "\n",
    "kmeans = KMeans(n_clusters = 3)\n",
    "y_kmeans = kmeans.fit_predict(X)"
   ]
  },
  {
   "cell_type": "code",
   "execution_count": 55,
   "metadata": {},
   "outputs": [],
   "source": [
    "# Adding cluster ID to the dataframe\n",
    "rfm_clean['Cluster_ID'] = y_kmeans"
   ]
  },
  {
   "cell_type": "code",
   "execution_count": 56,
   "metadata": {},
   "outputs": [
    {
     "data": {
      "text/html": [
       "<div>\n",
       "<style scoped>\n",
       "    .dataframe tbody tr th:only-of-type {\n",
       "        vertical-align: middle;\n",
       "    }\n",
       "\n",
       "    .dataframe tbody tr th {\n",
       "        vertical-align: top;\n",
       "    }\n",
       "\n",
       "    .dataframe thead th {\n",
       "        text-align: right;\n",
       "    }\n",
       "</style>\n",
       "<table border=\"1\" class=\"dataframe\">\n",
       "  <thead>\n",
       "    <tr style=\"text-align: right;\">\n",
       "      <th></th>\n",
       "      <th>recency</th>\n",
       "      <th>frequency</th>\n",
       "      <th>monetary</th>\n",
       "    </tr>\n",
       "    <tr>\n",
       "      <th>Cluster_ID</th>\n",
       "      <th></th>\n",
       "      <th></th>\n",
       "      <th></th>\n",
       "    </tr>\n",
       "  </thead>\n",
       "  <tbody>\n",
       "    <tr>\n",
       "      <td>0</td>\n",
       "      <td>73.311712</td>\n",
       "      <td>1.751351</td>\n",
       "      <td>115.790766</td>\n",
       "    </tr>\n",
       "    <tr>\n",
       "      <td>1</td>\n",
       "      <td>171.615027</td>\n",
       "      <td>1.471174</td>\n",
       "      <td>95.002604</td>\n",
       "    </tr>\n",
       "    <tr>\n",
       "      <td>2</td>\n",
       "      <td>98.540623</td>\n",
       "      <td>4.631453</td>\n",
       "      <td>321.363973</td>\n",
       "    </tr>\n",
       "  </tbody>\n",
       "</table>\n",
       "</div>"
      ],
      "text/plain": [
       "               recency  frequency    monetary\n",
       "Cluster_ID                                   \n",
       "0            73.311712   1.751351  115.790766\n",
       "1           171.615027   1.471174   95.002604\n",
       "2            98.540623   4.631453  321.363973"
      ]
     },
     "execution_count": 56,
     "metadata": {},
     "output_type": "execute_result"
    }
   ],
   "source": [
    "rfm_clean.groupby('Cluster_ID').mean()"
   ]
  },
  {
   "cell_type": "code",
   "execution_count": 57,
   "metadata": {},
   "outputs": [
    {
     "data": {
      "image/png": "[encoded data removed]",
      "text/plain": [
       "<Figure size 419.125x360 with 1 Axes>"
      ]
     },
     "metadata": {
      "needs_background": "light"
     },
     "output_type": "display_data"
    },
    {
     "data": {
      "image/png": "[encoded data removed]",
      "text/plain": [
       "<Figure size 419.125x360 with 1 Axes>"
      ]
     },
     "metadata": {
      "needs_background": "light"
     },
     "output_type": "display_data"
    },
    {
     "data": {
      "image/png": "[encoded data removed]",
      "text/plain": [
       "<Figure size 419.125x360 with 1 Axes>"
      ]
     },
     "metadata": {
      "needs_background": "light"
     },
     "output_type": "display_data"
    }
   ],
   "source": [
    "# Create a plot for frequency vs monetary \n",
    "facet = sns.lmplot(data=X, x='frequency', y='monetary', hue='Cluster_ID', \n",
    "                   fit_reg=False, legend=True, legend_out=True)\n",
    "# Create a plot for recency vs monetary\n",
    "facet2 = sns.lmplot(data=X, x='recency', y='monetary', hue='Cluster_ID', \n",
    "                   fit_reg=False, legend=True, legend_out=True)\n",
    "# Create a plot for recency vs frequency\n",
    "facet2 = sns.lmplot(data=X, x='recency', y='frequency', hue='Cluster_ID', \n",
    "                   fit_reg=False, legend=True, legend_out=True)"
   ]
  },
  {
   "cell_type": "code",
   "execution_count": 58,
   "metadata": {},
   "outputs": [],
   "source": [
    "# Fitting K Means to the Datatset using k = 4\n",
    "\n",
    "kmeans = KMeans(n_clusters = 4)\n",
    "y_kmeans = kmeans.fit_predict(X)"
   ]
  },
  {
   "cell_type": "code",
   "execution_count": 59,
   "metadata": {},
   "outputs": [],
   "source": [
    "# Adding cluster ID to the dataframe\n",
    "rfm_clean['Cluster_ID'] = y_kmeans"
   ]
  },
  {
   "cell_type": "code",
   "execution_count": 60,
   "metadata": {},
   "outputs": [
    {
     "data": {
      "text/html": [
       "<div>\n",
       "<style scoped>\n",
       "    .dataframe tbody tr th:only-of-type {\n",
       "        vertical-align: middle;\n",
       "    }\n",
       "\n",
       "    .dataframe tbody tr th {\n",
       "        vertical-align: top;\n",
       "    }\n",
       "\n",
       "    .dataframe thead th {\n",
       "        text-align: right;\n",
       "    }\n",
       "</style>\n",
       "<table border=\"1\" class=\"dataframe\">\n",
       "  <thead>\n",
       "    <tr style=\"text-align: right;\">\n",
       "      <th></th>\n",
       "      <th>recency</th>\n",
       "      <th>frequency</th>\n",
       "      <th>monetary</th>\n",
       "    </tr>\n",
       "    <tr>\n",
       "      <th>Cluster_ID</th>\n",
       "      <th></th>\n",
       "      <th></th>\n",
       "      <th></th>\n",
       "    </tr>\n",
       "  </thead>\n",
       "  <tbody>\n",
       "    <tr>\n",
       "      <td>0</td>\n",
       "      <td>172.579348</td>\n",
       "      <td>1.373642</td>\n",
       "      <td>88.118997</td>\n",
       "    </tr>\n",
       "    <tr>\n",
       "      <td>1</td>\n",
       "      <td>86.660890</td>\n",
       "      <td>5.932409</td>\n",
       "      <td>415.901791</td>\n",
       "    </tr>\n",
       "    <tr>\n",
       "      <td>2</td>\n",
       "      <td>73.387693</td>\n",
       "      <td>1.498006</td>\n",
       "      <td>98.386364</td>\n",
       "    </tr>\n",
       "    <tr>\n",
       "      <td>3</td>\n",
       "      <td>106.823472</td>\n",
       "      <td>3.430385</td>\n",
       "      <td>233.781097</td>\n",
       "    </tr>\n",
       "  </tbody>\n",
       "</table>\n",
       "</div>"
      ],
      "text/plain": [
       "               recency  frequency    monetary\n",
       "Cluster_ID                                   \n",
       "0           172.579348   1.373642   88.118997\n",
       "1            86.660890   5.932409  415.901791\n",
       "2            73.387693   1.498006   98.386364\n",
       "3           106.823472   3.430385  233.781097"
      ]
     },
     "execution_count": 60,
     "metadata": {},
     "output_type": "execute_result"
    }
   ],
   "source": [
    "rfm_clean.groupby('Cluster_ID').mean()"
   ]
  },
  {
   "cell_type": "code",
   "execution_count": 61,
   "metadata": {},
   "outputs": [
    {
     "data": {
      "image/png": "[encoded data removed]",
      "text/plain": [
       "<Figure size 419.125x360 with 1 Axes>"
      ]
     },
     "metadata": {
      "needs_background": "light"
     },
     "output_type": "display_data"
    },
    {
     "data": {
      "image/png": "[encoded data removed]",
      "text/plain": [
       "<Figure size 419.125x360 with 1 Axes>"
      ]
     },
     "metadata": {
      "needs_background": "light"
     },
     "output_type": "display_data"
    },
    {
     "data": {
      "image/png": "[encoded data removed]",
      "text/plain": [
       "<Figure size 419.125x360 with 1 Axes>"
      ]
     },
     "metadata": {
      "needs_background": "light"
     },
     "output_type": "display_data"
    }
   ],
   "source": [
    "# Create a plot for frequency vs monetary \n",
    "facet = sns.lmplot(data=X, x='frequency', y='monetary', hue='Cluster_ID', \n",
    "                   fit_reg=False, legend=True, legend_out=True)\n",
    "# Create a plot for recency vs monetary\n",
    "facet2 = sns.lmplot(data=X, x='recency', y='monetary', hue='Cluster_ID', \n",
    "                   fit_reg=False, legend=True, legend_out=True)\n",
    "# Create a plot for recency vs frequency\n",
    "facet2 = sns.lmplot(data=X, x='recency', y='frequency', hue='Cluster_ID', \n",
    "                   fit_reg=False, legend=True, legend_out=True)"
   ]
  },
  {
   "cell_type": "code",
   "execution_count": 62,
   "metadata": {},
   "outputs": [
    {
     "data": {
      "text/html": [
       "<div>\n",
       "<style scoped>\n",
       "    .dataframe tbody tr th:only-of-type {\n",
       "        vertical-align: middle;\n",
       "    }\n",
       "\n",
       "    .dataframe tbody tr th {\n",
       "        vertical-align: top;\n",
       "    }\n",
       "\n",
       "    .dataframe thead th {\n",
       "        text-align: right;\n",
       "    }\n",
       "</style>\n",
       "<table border=\"1\" class=\"dataframe\">\n",
       "  <thead>\n",
       "    <tr style=\"text-align: right;\">\n",
       "      <th></th>\n",
       "      <th>recency</th>\n",
       "      <th>frequency</th>\n",
       "      <th>monetary</th>\n",
       "    </tr>\n",
       "    <tr>\n",
       "      <th>Cluster_ID</th>\n",
       "      <th></th>\n",
       "      <th></th>\n",
       "      <th></th>\n",
       "    </tr>\n",
       "  </thead>\n",
       "  <tbody>\n",
       "    <tr>\n",
       "      <td>0</td>\n",
       "      <td>172.579348</td>\n",
       "      <td>1.373642</td>\n",
       "      <td>88.118997</td>\n",
       "    </tr>\n",
       "    <tr>\n",
       "      <td>1</td>\n",
       "      <td>86.660890</td>\n",
       "      <td>5.932409</td>\n",
       "      <td>415.901791</td>\n",
       "    </tr>\n",
       "    <tr>\n",
       "      <td>2</td>\n",
       "      <td>73.387693</td>\n",
       "      <td>1.498006</td>\n",
       "      <td>98.386364</td>\n",
       "    </tr>\n",
       "    <tr>\n",
       "      <td>3</td>\n",
       "      <td>106.823472</td>\n",
       "      <td>3.430385</td>\n",
       "      <td>233.781097</td>\n",
       "    </tr>\n",
       "  </tbody>\n",
       "</table>\n",
       "</div>"
      ],
      "text/plain": [
       "               recency  frequency    monetary\n",
       "Cluster_ID                                   \n",
       "0           172.579348   1.373642   88.118997\n",
       "1            86.660890   5.932409  415.901791\n",
       "2            73.387693   1.498006   98.386364\n",
       "3           106.823472   3.430385  233.781097"
      ]
     },
     "execution_count": 62,
     "metadata": {},
     "output_type": "execute_result"
    }
   ],
   "source": [
    "for i in range(2): rfm_clean_mean= rfm_clean.groupby([\"Cluster_ID\"]).mean()\n",
    "\n",
    "rfm_clean_mean"
   ]
  },
  {
   "cell_type": "code",
   "execution_count": 63,
   "metadata": {},
   "outputs": [],
   "source": [
    "# Import the libraries\n",
    "import scipy.cluster.hierarchy as sch"
   ]
  },
  {
   "cell_type": "code",
   "execution_count": 64,
   "metadata": {},
   "outputs": [
    {
     "data": {
      "image/png": "[encoded data removed]",
      "text/plain": [
       "<Figure size 432x288 with 1 Axes>"
      ]
     },
     "metadata": {
      "needs_background": "light"
     },
     "output_type": "display_data"
    }
   ],
   "source": [
    "# Build a dendrogram using the minimum variance method\n",
    "dendrogram = sch.dendrogram(sch.linkage(X, method = 'ward'))\n",
    "plt.title('Dendrogram')\n",
    "plt.xlabel('Customers')\n",
    "plt.ylabel('Euclidean distances')\n",
    "plt.show()"
   ]
  },
  {
   "cell_type": "code",
   "execution_count": 65,
   "metadata": {},
   "outputs": [],
   "source": [
    "# Train the hierarchical clustering model on the dataset\n",
    "from sklearn.cluster import AgglomerativeClustering\n",
    "hc = AgglomerativeClustering(n_clusters = 4, affinity = 'euclidean', linkage = 'ward')\n",
    "y_hc = hc.fit_predict(X)"
   ]
  },
  {
   "cell_type": "code",
   "execution_count": 66,
   "metadata": {},
   "outputs": [],
   "source": [
    "X['Cluster_ID'] = y_hc"
   ]
  },
  {
   "cell_type": "code",
   "execution_count": 67,
   "metadata": {},
   "outputs": [
    {
     "data": {
      "text/html": [
       "<div>\n",
       "<style scoped>\n",
       "    .dataframe tbody tr th:only-of-type {\n",
       "        vertical-align: middle;\n",
       "    }\n",
       "\n",
       "    .dataframe tbody tr th {\n",
       "        vertical-align: top;\n",
       "    }\n",
       "\n",
       "    .dataframe thead th {\n",
       "        text-align: right;\n",
       "    }\n",
       "</style>\n",
       "<table border=\"1\" class=\"dataframe\">\n",
       "  <thead>\n",
       "    <tr style=\"text-align: right;\">\n",
       "      <th></th>\n",
       "      <th>recency</th>\n",
       "      <th>frequency</th>\n",
       "      <th>monetary</th>\n",
       "      <th>Cluster_ID</th>\n",
       "    </tr>\n",
       "    <tr>\n",
       "      <th>customer_id</th>\n",
       "      <th></th>\n",
       "      <th></th>\n",
       "      <th></th>\n",
       "      <th></th>\n",
       "    </tr>\n",
       "  </thead>\n",
       "  <tbody>\n",
       "    <tr>\n",
       "      <td>1000661.0</td>\n",
       "      <td>193</td>\n",
       "      <td>3.0</td>\n",
       "      <td>216</td>\n",
       "      <td>0</td>\n",
       "    </tr>\n",
       "    <tr>\n",
       "      <td>1001914.0</td>\n",
       "      <td>193</td>\n",
       "      <td>1.0</td>\n",
       "      <td>66</td>\n",
       "      <td>0</td>\n",
       "    </tr>\n",
       "    <tr>\n",
       "      <td>1002167.0</td>\n",
       "      <td>88</td>\n",
       "      <td>3.0</td>\n",
       "      <td>195</td>\n",
       "      <td>2</td>\n",
       "    </tr>\n",
       "    <tr>\n",
       "      <td>1002387.0</td>\n",
       "      <td>79</td>\n",
       "      <td>1.0</td>\n",
       "      <td>74</td>\n",
       "      <td>2</td>\n",
       "    </tr>\n",
       "    <tr>\n",
       "      <td>1002419.0</td>\n",
       "      <td>149</td>\n",
       "      <td>2.0</td>\n",
       "      <td>85</td>\n",
       "      <td>0</td>\n",
       "    </tr>\n",
       "  </tbody>\n",
       "</table>\n",
       "</div>"
      ],
      "text/plain": [
       "             recency  frequency  monetary  Cluster_ID\n",
       "customer_id                                          \n",
       "1000661.0        193        3.0       216           0\n",
       "1001914.0        193        1.0        66           0\n",
       "1002167.0         88        3.0       195           2\n",
       "1002387.0         79        1.0        74           2\n",
       "1002419.0        149        2.0        85           0"
      ]
     },
     "execution_count": 67,
     "metadata": {},
     "output_type": "execute_result"
    }
   ],
   "source": [
    "X.head()"
   ]
  },
  {
   "cell_type": "code",
   "execution_count": 68,
   "metadata": {},
   "outputs": [
    {
     "data": {
      "image/png": "[encoded data removed]",
      "text/plain": [
       "<Figure size 419.125x360 with 1 Axes>"
      ]
     },
     "metadata": {
      "needs_background": "light"
     },
     "output_type": "display_data"
    },
    {
     "data": {
      "image/png": "[encoded data removed]",
      "text/plain": [
       "<Figure size 419.125x360 with 1 Axes>"
      ]
     },
     "metadata": {
      "needs_background": "light"
     },
     "output_type": "display_data"
    },
    {
     "data": {
      "image/png": "[encoded data removed]",
      "text/plain": [
       "<Figure size 419.125x360 with 1 Axes>"
      ]
     },
     "metadata": {
      "needs_background": "light"
     },
     "output_type": "display_data"
    }
   ],
   "source": [
    "# Create a plot for frequency vs monetary \n",
    "facet = sns.lmplot(data=X, x='frequency', y='monetary', hue='Cluster_ID', \n",
    "                   fit_reg=False, legend=True, legend_out=True)\n",
    "# Create a plot for recency vs monetary\n",
    "facet2 = sns.lmplot(data=X, x='recency', y='monetary', hue='Cluster_ID', \n",
    "                   fit_reg=False, legend=True, legend_out=True)\n",
    "# Create a plot for recency vs frequency\n",
    "facet2 = sns.lmplot(data=X, x='recency', y='frequency', hue='Cluster_ID', \n",
    "                   fit_reg=False, legend=True, legend_out=True)"
   ]
  },
  {
   "cell_type": "code",
   "execution_count": 69,
   "metadata": {},
   "outputs": [],
   "source": [
    "# Import libraries\n",
    "from sklearn import cluster\n",
    "from sklearn import metrics"
   ]
  },
  {
   "cell_type": "code",
   "execution_count": 70,
   "metadata": {},
   "outputs": [],
   "source": [
    "# Calculate Silhouette score for different cluster values\n",
    "krange = list(range(2,8))\n",
    "avg_silhouettes = []\n",
    "for n in krange:\n",
    "  model = cluster.KMeans(n_clusters=n, random_state=10)\n",
    "  cluster_assignments = model.fit_predict(X)\n",
    "\n",
    "  silhouette_avg = metrics.silhouette_score(X, cluster_assignments)\n",
    "  avg_silhouettes.append(silhouette_avg)"
   ]
  },
  {
   "cell_type": "code",
   "execution_count": 71,
   "metadata": {},
   "outputs": [
    {
     "data": {
      "image/png": "[encoded data removed]",
      "text/plain": [
       "<Figure size 432x288 with 1 Axes>"
      ]
     },
     "metadata": {
      "needs_background": "light"
     },
     "output_type": "display_data"
    }
   ],
   "source": [
    "# PLot the score\n",
    "plt.plot(krange, avg_silhouettes)\n",
    "plt.xlabel(\"$K$\")\n",
    "plt.ylabel(\"Average Silhouette Score\")\n",
    "plt.show()"
   ]
  },
  {
   "cell_type": "code",
   "execution_count": null,
   "metadata": {},
   "outputs": [],
   "source": []
  }
 ],
 "metadata": {
  "kernelspec": {
   "display_name": "Python 3",
   "language": "python",
   "name": "python3"
  },
  "language_info": {
   "codemirror_mode": {
    "name": "ipython",
    "version": 3
   },
   "file_extension": ".py",
   "mimetype": "text/x-python",
   "name": "python",
   "nbconvert_exporter": "python",
   "pygments_lexer": "ipython3",
   "version": "3.7.4"
  }
 },
 "nbformat": 4,
 "nbformat_minor": 4
}
